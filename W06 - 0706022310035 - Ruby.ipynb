{
  "cells": [
    {
      "cell_type": "code",
      "execution_count": 1,
      "metadata": {
        "colab": {
          "background_save": true
        },
        "id": "a67lntpFyZ_e"
      },
      "outputs": [],
      "source": [
        "# import library\n",
        "import matplotlib.pyplot as plt\n",
        "import pandas as pd\n",
        "import numpy as np\n",
        "import seaborn as sns\n",
        "from sklearn import tree\n",
        "\n",
        "\n",
        "from sklearn.model_selection import train_test_split, GridSearchCV, cross_val_score\n",
        "from sklearn.tree import DecisionTreeClassifier\n",
        "from sklearn.ensemble import RandomForestClassifier\n",
        "from xgboost import XGBClassifier\n",
        "from sklearn.metrics import classification_report, confusion_matrix\n",
        "from imblearn.over_sampling import SMOTE\n",
        "from sklearn.feature_selection import SelectFromModel\n",
        "from sklearn.metrics import accuracy_score, classification_report"
      ]
    },
    {
      "cell_type": "code",
      "execution_count": 2,
      "metadata": {
        "colab": {
          "background_save": true,
          "base_uri": "https://localhost:8080/",
          "height": 206
        },
        "id": "GwEmkac_AbOY",
        "outputId": "6d4d37a4-5bfd-47b5-f180-75a5f521ef01"
      },
      "outputs": [
        {
          "data": {
            "text/html": [
              "<div>\n",
              "<style scoped>\n",
              "    .dataframe tbody tr th:only-of-type {\n",
              "        vertical-align: middle;\n",
              "    }\n",
              "\n",
              "    .dataframe tbody tr th {\n",
              "        vertical-align: top;\n",
              "    }\n",
              "\n",
              "    .dataframe thead th {\n",
              "        text-align: right;\n",
              "    }\n",
              "</style>\n",
              "<table border=\"1\" class=\"dataframe\">\n",
              "  <thead>\n",
              "    <tr style=\"text-align: right;\">\n",
              "      <th></th>\n",
              "      <th>age</th>\n",
              "      <th>job</th>\n",
              "      <th>marital</th>\n",
              "      <th>education</th>\n",
              "      <th>default</th>\n",
              "      <th>balance</th>\n",
              "      <th>housing</th>\n",
              "      <th>loan</th>\n",
              "      <th>contact</th>\n",
              "      <th>day</th>\n",
              "      <th>month</th>\n",
              "      <th>duration</th>\n",
              "      <th>campaign</th>\n",
              "      <th>pdays</th>\n",
              "      <th>previous</th>\n",
              "      <th>poutcome</th>\n",
              "      <th>y</th>\n",
              "    </tr>\n",
              "  </thead>\n",
              "  <tbody>\n",
              "    <tr>\n",
              "      <th>0</th>\n",
              "      <td>30</td>\n",
              "      <td>unemployed</td>\n",
              "      <td>married</td>\n",
              "      <td>primary</td>\n",
              "      <td>no</td>\n",
              "      <td>1787</td>\n",
              "      <td>no</td>\n",
              "      <td>no</td>\n",
              "      <td>cellular</td>\n",
              "      <td>19</td>\n",
              "      <td>oct</td>\n",
              "      <td>79</td>\n",
              "      <td>1</td>\n",
              "      <td>-1</td>\n",
              "      <td>0</td>\n",
              "      <td>unknown</td>\n",
              "      <td>no</td>\n",
              "    </tr>\n",
              "    <tr>\n",
              "      <th>1</th>\n",
              "      <td>33</td>\n",
              "      <td>services</td>\n",
              "      <td>married</td>\n",
              "      <td>secondary</td>\n",
              "      <td>no</td>\n",
              "      <td>4789</td>\n",
              "      <td>yes</td>\n",
              "      <td>yes</td>\n",
              "      <td>cellular</td>\n",
              "      <td>11</td>\n",
              "      <td>may</td>\n",
              "      <td>220</td>\n",
              "      <td>1</td>\n",
              "      <td>339</td>\n",
              "      <td>4</td>\n",
              "      <td>failure</td>\n",
              "      <td>no</td>\n",
              "    </tr>\n",
              "    <tr>\n",
              "      <th>2</th>\n",
              "      <td>35</td>\n",
              "      <td>management</td>\n",
              "      <td>single</td>\n",
              "      <td>tertiary</td>\n",
              "      <td>no</td>\n",
              "      <td>1350</td>\n",
              "      <td>yes</td>\n",
              "      <td>no</td>\n",
              "      <td>cellular</td>\n",
              "      <td>16</td>\n",
              "      <td>apr</td>\n",
              "      <td>185</td>\n",
              "      <td>1</td>\n",
              "      <td>330</td>\n",
              "      <td>1</td>\n",
              "      <td>failure</td>\n",
              "      <td>no</td>\n",
              "    </tr>\n",
              "    <tr>\n",
              "      <th>3</th>\n",
              "      <td>30</td>\n",
              "      <td>management</td>\n",
              "      <td>married</td>\n",
              "      <td>tertiary</td>\n",
              "      <td>no</td>\n",
              "      <td>1476</td>\n",
              "      <td>yes</td>\n",
              "      <td>yes</td>\n",
              "      <td>unknown</td>\n",
              "      <td>3</td>\n",
              "      <td>jun</td>\n",
              "      <td>199</td>\n",
              "      <td>4</td>\n",
              "      <td>-1</td>\n",
              "      <td>0</td>\n",
              "      <td>unknown</td>\n",
              "      <td>no</td>\n",
              "    </tr>\n",
              "    <tr>\n",
              "      <th>4</th>\n",
              "      <td>59</td>\n",
              "      <td>blue-collar</td>\n",
              "      <td>married</td>\n",
              "      <td>secondary</td>\n",
              "      <td>no</td>\n",
              "      <td>0</td>\n",
              "      <td>yes</td>\n",
              "      <td>no</td>\n",
              "      <td>unknown</td>\n",
              "      <td>5</td>\n",
              "      <td>may</td>\n",
              "      <td>226</td>\n",
              "      <td>1</td>\n",
              "      <td>-1</td>\n",
              "      <td>0</td>\n",
              "      <td>unknown</td>\n",
              "      <td>no</td>\n",
              "    </tr>\n",
              "  </tbody>\n",
              "</table>\n",
              "</div>"
            ],
            "text/plain": [
              "   age          job  marital  education default  balance housing loan  \\\n",
              "0   30   unemployed  married    primary      no     1787      no   no   \n",
              "1   33     services  married  secondary      no     4789     yes  yes   \n",
              "2   35   management   single   tertiary      no     1350     yes   no   \n",
              "3   30   management  married   tertiary      no     1476     yes  yes   \n",
              "4   59  blue-collar  married  secondary      no        0     yes   no   \n",
              "\n",
              "    contact  day month  duration  campaign  pdays  previous poutcome   y  \n",
              "0  cellular   19   oct        79         1     -1         0  unknown  no  \n",
              "1  cellular   11   may       220         1    339         4  failure  no  \n",
              "2  cellular   16   apr       185         1    330         1  failure  no  \n",
              "3   unknown    3   jun       199         4     -1         0  unknown  no  \n",
              "4   unknown    5   may       226         1     -1         0  unknown  no  "
            ]
          },
          "execution_count": 2,
          "metadata": {},
          "output_type": "execute_result"
        }
      ],
      "source": [
        "pd.set_option('display.max_columns', None)  # biar semua kolom kelihatan\n",
        "\n",
        "url = \"https://raw.githubusercontent.com/NathaliaMinoque/datasets/refs/heads/main/Bank%20(1).csv\"\n",
        "\n",
        "# tambahkan parameter sep\n",
        "df = pd.read_csv(url, sep=\";\")\n",
        "\n",
        "# tampilkan 5 baris pertama\n",
        "df.head()\n"
      ]
    },
    {
      "cell_type": "code",
      "execution_count": 3,
      "metadata": {
        "colab": {
          "background_save": true,
          "base_uri": "https://localhost:8080/"
        },
        "id": "Fd9wEDJpfinJ",
        "outputId": "ced615cc-9c82-4620-b47c-26a2a4f374ea"
      },
      "outputs": [
        {
          "name": "stdout",
          "output_type": "stream",
          "text": [
            "<class 'pandas.core.frame.DataFrame'>\n",
            "RangeIndex: 4521 entries, 0 to 4520\n",
            "Data columns (total 17 columns):\n",
            " #   Column     Non-Null Count  Dtype \n",
            "---  ------     --------------  ----- \n",
            " 0   age        4521 non-null   int64 \n",
            " 1   job        4521 non-null   object\n",
            " 2   marital    4521 non-null   object\n",
            " 3   education  4521 non-null   object\n",
            " 4   default    4521 non-null   object\n",
            " 5   balance    4521 non-null   int64 \n",
            " 6   housing    4521 non-null   object\n",
            " 7   loan       4521 non-null   object\n",
            " 8   contact    4521 non-null   object\n",
            " 9   day        4521 non-null   int64 \n",
            " 10  month      4521 non-null   object\n",
            " 11  duration   4521 non-null   int64 \n",
            " 12  campaign   4521 non-null   int64 \n",
            " 13  pdays      4521 non-null   int64 \n",
            " 14  previous   4521 non-null   int64 \n",
            " 15  poutcome   4521 non-null   object\n",
            " 16  y          4521 non-null   object\n",
            "dtypes: int64(7), object(10)\n",
            "memory usage: 600.6+ KB\n"
          ]
        }
      ],
      "source": [
        "# get info from dataset\n",
        "df.info()"
      ]
    },
    {
      "cell_type": "code",
      "execution_count": 4,
      "metadata": {
        "colab": {
          "background_save": true,
          "base_uri": "https://localhost:8080/"
        },
        "id": "bMlDS8f9sk29",
        "outputId": "48bbf1c9-3670-49f8-b033-c3321236aecc"
      },
      "outputs": [
        {
          "name": "stdout",
          "output_type": "stream",
          "text": [
            "(4521, 17)\n"
          ]
        }
      ],
      "source": [
        "# Shape & data types\n",
        "print(df.shape)"
      ]
    },
    {
      "cell_type": "code",
      "execution_count": 5,
      "metadata": {
        "colab": {
          "background_save": true,
          "base_uri": "https://localhost:8080/"
        },
        "id": "Go-fZxNNskv3",
        "outputId": "4e710b1a-0af4-44dc-cb5c-a0de29f8db97"
      },
      "outputs": [
        {
          "name": "stdout",
          "output_type": "stream",
          "text": [
            "age           int64\n",
            "job          object\n",
            "marital      object\n",
            "education    object\n",
            "default      object\n",
            "balance       int64\n",
            "housing      object\n",
            "loan         object\n",
            "contact      object\n",
            "day           int64\n",
            "month        object\n",
            "duration      int64\n",
            "campaign      int64\n",
            "pdays         int64\n",
            "previous      int64\n",
            "poutcome     object\n",
            "y            object\n",
            "dtype: object\n"
          ]
        }
      ],
      "source": [
        "print(df.dtypes)"
      ]
    },
    {
      "cell_type": "code",
      "execution_count": 6,
      "metadata": {
        "colab": {
          "background_save": true,
          "base_uri": "https://localhost:8080/"
        },
        "id": "Q0S_nz72skmU",
        "outputId": "5c0126cf-a69d-4ce9-8bf7-50e05332d60b"
      },
      "outputs": [
        {
          "name": "stdout",
          "output_type": "stream",
          "text": [
            "age          0\n",
            "job          0\n",
            "marital      0\n",
            "education    0\n",
            "default      0\n",
            "balance      0\n",
            "housing      0\n",
            "loan         0\n",
            "contact      0\n",
            "day          0\n",
            "month        0\n",
            "duration     0\n",
            "campaign     0\n",
            "pdays        0\n",
            "previous     0\n",
            "poutcome     0\n",
            "y            0\n",
            "dtype: int64\n"
          ]
        }
      ],
      "source": [
        "# Missing values\n",
        "print(df.isnull().sum())"
      ]
    },
    {
      "cell_type": "code",
      "execution_count": 7,
      "metadata": {
        "colab": {
          "background_save": true,
          "base_uri": "https://localhost:8080/",
          "height": 300
        },
        "id": "twhHe2cSjSlw",
        "outputId": "0622fcde-e109-4a70-b8ea-527ac284891a"
      },
      "outputs": [
        {
          "data": {
            "text/html": [
              "<div>\n",
              "<style scoped>\n",
              "    .dataframe tbody tr th:only-of-type {\n",
              "        vertical-align: middle;\n",
              "    }\n",
              "\n",
              "    .dataframe tbody tr th {\n",
              "        vertical-align: top;\n",
              "    }\n",
              "\n",
              "    .dataframe thead th {\n",
              "        text-align: right;\n",
              "    }\n",
              "</style>\n",
              "<table border=\"1\" class=\"dataframe\">\n",
              "  <thead>\n",
              "    <tr style=\"text-align: right;\">\n",
              "      <th></th>\n",
              "      <th>age</th>\n",
              "      <th>balance</th>\n",
              "      <th>day</th>\n",
              "      <th>duration</th>\n",
              "      <th>campaign</th>\n",
              "      <th>pdays</th>\n",
              "      <th>previous</th>\n",
              "    </tr>\n",
              "  </thead>\n",
              "  <tbody>\n",
              "    <tr>\n",
              "      <th>count</th>\n",
              "      <td>4521.000000</td>\n",
              "      <td>4521.000000</td>\n",
              "      <td>4521.000000</td>\n",
              "      <td>4521.000000</td>\n",
              "      <td>4521.000000</td>\n",
              "      <td>4521.000000</td>\n",
              "      <td>4521.000000</td>\n",
              "    </tr>\n",
              "    <tr>\n",
              "      <th>mean</th>\n",
              "      <td>41.170095</td>\n",
              "      <td>1422.657819</td>\n",
              "      <td>15.915284</td>\n",
              "      <td>263.961292</td>\n",
              "      <td>2.793630</td>\n",
              "      <td>39.766645</td>\n",
              "      <td>0.542579</td>\n",
              "    </tr>\n",
              "    <tr>\n",
              "      <th>std</th>\n",
              "      <td>10.576211</td>\n",
              "      <td>3009.638142</td>\n",
              "      <td>8.247667</td>\n",
              "      <td>259.856633</td>\n",
              "      <td>3.109807</td>\n",
              "      <td>100.121124</td>\n",
              "      <td>1.693562</td>\n",
              "    </tr>\n",
              "    <tr>\n",
              "      <th>min</th>\n",
              "      <td>19.000000</td>\n",
              "      <td>-3313.000000</td>\n",
              "      <td>1.000000</td>\n",
              "      <td>4.000000</td>\n",
              "      <td>1.000000</td>\n",
              "      <td>-1.000000</td>\n",
              "      <td>0.000000</td>\n",
              "    </tr>\n",
              "    <tr>\n",
              "      <th>25%</th>\n",
              "      <td>33.000000</td>\n",
              "      <td>69.000000</td>\n",
              "      <td>9.000000</td>\n",
              "      <td>104.000000</td>\n",
              "      <td>1.000000</td>\n",
              "      <td>-1.000000</td>\n",
              "      <td>0.000000</td>\n",
              "    </tr>\n",
              "    <tr>\n",
              "      <th>50%</th>\n",
              "      <td>39.000000</td>\n",
              "      <td>444.000000</td>\n",
              "      <td>16.000000</td>\n",
              "      <td>185.000000</td>\n",
              "      <td>2.000000</td>\n",
              "      <td>-1.000000</td>\n",
              "      <td>0.000000</td>\n",
              "    </tr>\n",
              "    <tr>\n",
              "      <th>75%</th>\n",
              "      <td>49.000000</td>\n",
              "      <td>1480.000000</td>\n",
              "      <td>21.000000</td>\n",
              "      <td>329.000000</td>\n",
              "      <td>3.000000</td>\n",
              "      <td>-1.000000</td>\n",
              "      <td>0.000000</td>\n",
              "    </tr>\n",
              "    <tr>\n",
              "      <th>max</th>\n",
              "      <td>87.000000</td>\n",
              "      <td>71188.000000</td>\n",
              "      <td>31.000000</td>\n",
              "      <td>3025.000000</td>\n",
              "      <td>50.000000</td>\n",
              "      <td>871.000000</td>\n",
              "      <td>25.000000</td>\n",
              "    </tr>\n",
              "  </tbody>\n",
              "</table>\n",
              "</div>"
            ],
            "text/plain": [
              "               age       balance          day     duration     campaign  \\\n",
              "count  4521.000000   4521.000000  4521.000000  4521.000000  4521.000000   \n",
              "mean     41.170095   1422.657819    15.915284   263.961292     2.793630   \n",
              "std      10.576211   3009.638142     8.247667   259.856633     3.109807   \n",
              "min      19.000000  -3313.000000     1.000000     4.000000     1.000000   \n",
              "25%      33.000000     69.000000     9.000000   104.000000     1.000000   \n",
              "50%      39.000000    444.000000    16.000000   185.000000     2.000000   \n",
              "75%      49.000000   1480.000000    21.000000   329.000000     3.000000   \n",
              "max      87.000000  71188.000000    31.000000  3025.000000    50.000000   \n",
              "\n",
              "             pdays     previous  \n",
              "count  4521.000000  4521.000000  \n",
              "mean     39.766645     0.542579  \n",
              "std     100.121124     1.693562  \n",
              "min      -1.000000     0.000000  \n",
              "25%      -1.000000     0.000000  \n",
              "50%      -1.000000     0.000000  \n",
              "75%      -1.000000     0.000000  \n",
              "max     871.000000    25.000000  "
            ]
          },
          "execution_count": 7,
          "metadata": {},
          "output_type": "execute_result"
        }
      ],
      "source": [
        "# get statistical info from dataset\n",
        "df.describe()"
      ]
    },
    {
      "cell_type": "code",
      "execution_count": 8,
      "metadata": {
        "colab": {
          "background_save": true,
          "base_uri": "https://localhost:8080/",
          "height": 1000
        },
        "id": "tNW9gKDBk5o3",
        "outputId": "23473b56-8b6c-4fe1-bfe5-f9ea23814057"
      },
      "outputs": [
        {
          "data": {
            "text/plain": [
              "{'age': array([30, 33, 35, 59, 36, 39, 41, 43, 20, 31, 40, 56, 37, 25, 38, 42, 44,\n",
              "        26, 55, 67, 53, 68, 32, 49, 78, 23, 52, 34, 61, 45, 48, 57, 54, 63,\n",
              "        51, 29, 50, 27, 60, 28, 21, 58, 22, 46, 24, 77, 75, 47, 70, 65, 64,\n",
              "        62, 66, 19, 81, 83, 80, 71, 72, 69, 79, 73, 86, 74, 76, 87, 84],\n",
              "       dtype=int64),\n",
              " 'job': array(['unemployed', 'services', 'management', 'blue-collar',\n",
              "        'self-employed', 'technician', 'entrepreneur', 'admin.', 'student',\n",
              "        'housemaid', 'retired', 'unknown'], dtype=object),\n",
              " 'marital': array(['married', 'single', 'divorced'], dtype=object),\n",
              " 'education': array(['primary', 'secondary', 'tertiary', 'unknown'], dtype=object),\n",
              " 'default': array(['no', 'yes'], dtype=object),\n",
              " 'balance': array([ 1787,  4789,  1350, ...,  -333, -3313,  1137], dtype=int64),\n",
              " 'housing': array(['no', 'yes'], dtype=object),\n",
              " 'loan': array(['no', 'yes'], dtype=object),\n",
              " 'contact': array(['cellular', 'unknown', 'telephone'], dtype=object),\n",
              " 'day': array([19, 11, 16,  3,  5, 23, 14,  6, 17, 20, 13, 30, 29, 27,  7, 18, 12,\n",
              "        21, 26, 22,  2,  4, 15,  8, 28,  9,  1, 10, 31, 25, 24],\n",
              "       dtype=int64),\n",
              " 'month': array(['oct', 'may', 'apr', 'jun', 'feb', 'aug', 'jan', 'jul', 'nov',\n",
              "        'sep', 'mar', 'dec'], dtype=object),\n",
              " 'duration': array([  79,  220,  185,  199,  226,  141,  341,  151,   57,  313,  273,\n",
              "         113,  328,  261,   89,  189,  239,  114,  250,  148,   96,  140,\n",
              "         109,  125,  169,  182,  247,  119,  149,   74,  897,   81,   40,\n",
              "         958,  354,  150,   97,  132,  765,   16,  609,  106,  365,  205,\n",
              "          11,  105,   59,  425,  204,  181, 1018, 1740,   98,  441,  272,\n",
              "         159,  295,  314,  579,  554,  323,  227,  134,  223,  155,  130,\n",
              "         630,  164,  268,  380,  154,  221,   67,  367,   87,  701,  652,\n",
              "          63,  398,  224,  406,   60,  521,  279,  203,  201,  372,  391,\n",
              "         165,  231,  291,  233,  473,  736,  337,  553,  345,   65,    9,\n",
              "         259,  371,  280,  243,  435,  258,    7,  317,   76,  170,  386,\n",
              "          83,   69,  564,  588,  779,  281, 1877,   51,   32,  176,  161,\n",
              "         187,   24,   85,  236,   54,   71,  489,   39,  455,   86,  190,\n",
              "          45,  168,  194,  103,  333,  102,   92,  213,  289,   77,  324,\n",
              "          84,   10,   35,   82,  676,   80,  549,  135,  412,  101,  253,\n",
              "         166,   18,  147,   14,   61,  377,  152,  382,  543,  240,   48,\n",
              "         471,  285,  301,  768, 1337,  403,  139,  196,  115,   17,   95,\n",
              "         198,  654,  256,  834,   20,  178,  111,  186,  297,  210,  112,\n",
              "         222,  195,  123,  145,  124,  216,  483,  690,  344,  673,  144,\n",
              "         246,  361,  375, 1097,  180,  373,  230,   58,   88,  487,   29,\n",
              "         484,  262,  644,  699,   49,   64,  121,  197,  331,  138,  312,\n",
              "         120,  526,  211,   62,  988,  451, 1030, 1484,  445,  383,  605,\n",
              "         330,  171,  442,  772,  249,  357,  271,  783,  472,  395,   56,\n",
              "         641,  429,  157,  162,  799, 1370,   22,  215, 1017,  298,  126,\n",
              "           8,  555,  270,  339,  342, 1434,   30,  397,  620,    6,  209,\n",
              "         419,  283,  188,  267,  245, 1065,  207,  456,  131,   94,  567,\n",
              "         153,   53,  234,  108,  208,  597,  505,  332,  212,  493,  681,\n",
              "         287,  202,   37,   72,  325, 1212,  319,  514,  551,  142,  293,\n",
              "         107,  127, 1816,  200,  418,  387,  156,   47,  265,   31,   28,\n",
              "         369,  854,   46,  266,  321,   99,  430,  264,  118,  343,    5,\n",
              "         722,  748,  523,  421,   15,  502,  193,  347,  468,  388, 1735,\n",
              "         172,  117,  587,  501,  282,  110,  104,  378, 1407,  738,   70,\n",
              "         904,  336,  238,  585,   68, 1713,  218,  661,  566,  136,  160,\n",
              "          44,  792,   73,   90,  346,  192,  682,  651,  405,  350,   36,\n",
              "         389, 3025,  219,  427,  533,   19,  819,  278,  617,   34,  668,\n",
              "          75,  146,  356,  251,  352,  184,  568,  260,  447,  426,  174,\n",
              "         284,  428,  237, 1031,  700,  590,   43,   27, 1181,  122,  307,\n",
              "         770,  767,  232,  986,   66,  158,  306,  559,  183,  631, 1282,\n",
              "        1199,  244,   55,  290,  385,  133,   91,   25,  275,  632,  100,\n",
              "          41,  446,  304,  335,  276,   42,  614,  557, 1663,  510, 1259,\n",
              "         225,  404, 1015,  761,  464,  206,  667,  143,  717,   38,  254,\n",
              "         882,  957,  299,  167,  500,  177,  457,  460, 1028,  315,  381,\n",
              "         643,  508,  128,  492,  257,  241,  536,  601, 1168,  277,  364,\n",
              "         229,  402,  175,  255,  820,  116,  463,  603,  191, 2087,  754,\n",
              "         303,  288,  891,  558,  228,  353,  296,  432, 1130,  305,  274,\n",
              "         860,  420,  756,  968,  408,   13,  763,  316,   50,    4,   78,\n",
              "         286,  766,  648,  688,   21,  593,  407,  563,   52,  803,  396,\n",
              "         637,  945, 1178,  506,  409,  327,  618,  936,  329,  179,  731,\n",
              "         670,  318,  415,  137,  349,  263,  671,  452,  163,  586,  650,\n",
              "         610,  747,  252,  883,  684,  686, 1060,  724,  424,  712,  753,\n",
              "        1081,  376,  433,  411, 1083,  757,  524,  653,   93,  503,  217,\n",
              "         475,  340,  242,  530,   23,  935,  773,  423,  626,  578,  248,\n",
              "         528,  785,  952, 1174,  915,  937,  129, 1063,  758,  574,  847,\n",
              "        1558,  789, 1441,  322, 1504,  537,  611,   26,   12,  235,  796,\n",
              "        1126,  697,  931, 1034,  362,  410,  570,  633,  659,  302,  727,\n",
              "         214,  173,  635,  540, 1210,  486,  646,  326,  414,  716,  449,\n",
              "         580,  399, 1029,  755,  619,  606,  971,  348,  594, 1275,  379,\n",
              "        1032,  393,  808,  923,  413,  541,  602,  762,  360,  310,  311,\n",
              "         638,  355,  300,  417,  308,  657,  434,  488, 1309, 1056,  908,\n",
              "         401,  827,  735,  691,  461,  669, 1473, 1386,  294,  910,  550,\n",
              "        1366, 1532,  955,  513, 1236,  809,  482, 1164,  674,  709,  436,\n",
              "         374,  309,  363,  422,  358,  640,  439,  476,  480,  517,  993,\n",
              "          33,  730,  636,  750,  334,  868,  351, 1689,  607,  485, 1021,\n",
              "         732,  577,  733,  788,  863, 1073,  525,  696,  535,  370,  465,\n",
              "         338,  956,  546,  470,  836,  544,  443, 1149,  707, 1451, 1143,\n",
              "         477,  450,  467,  292,  806,  560,  759, 1183,  598,  466,  431,\n",
              "         269,  542,  562,  515, 1165,  547,  780,  916,  474,  509,  679,\n",
              "        1472,  965, 1139,  504,  672,  749,  454,  531,  479,  384,  973,\n",
              "         728,  656,  998,  320,  615,  612,  664,  394,  877, 1971, 1258,\n",
              "         599,  655, 1994,  743,  924,  929,  491,  719,  565, 1529,  390,\n",
              "        1467, 1007,  665,  990,  582,  458,  775,  497,  698,  702,  520,\n",
              "        1156,  884, 1521,  359,  527,  994, 1579,  437, 1225,  865,  569,\n",
              "        1011,  814,  984,  392,  595, 1448,  529, 1006,  622,  494, 1022,\n",
              "        1044,  781, 1124,  400,  516, 1516,  978,  720,  495,  798,  876,\n",
              "         875,  481,  793, 1117, 1223, 1101,  744, 2769,  561,  715,  639,\n",
              "         538, 1721, 1608,  725,  519,  490,  907,  680,  977,  959,  693,\n",
              "        2029, 1009,  718,  805,  623,  976,  600,  469, 1010,  634, 1531,\n",
              "         764,  532,  825,  539,  816,  821, 1231,  742, 2456,  721,  777,\n",
              "         548,  830,  645,  723,  746,  869, 1173,  624,  518,  815,  857,\n",
              "         921,  627,  800,  366, 1088,  812,  866, 1151,  873,  592,  663,\n",
              "         576, 1476,  951, 1234, 1263,  660], dtype=int64),\n",
              " 'campaign': array([ 1,  4,  2,  5,  3,  6, 18, 10,  9,  7, 12, 14, 13, 24, 11,  8, 29,\n",
              "        32, 16, 22, 15, 30, 25, 21, 17, 19, 23, 20, 50, 28, 31, 44],\n",
              "       dtype=int64),\n",
              " 'pdays': array([ -1, 339, 330, 176, 147, 241, 152, 105, 342, 101,   5,  92,  56,\n",
              "        170, 182, 297, 196, 460, 137, 367, 145, 169, 207, 266, 288, 168,\n",
              "        345, 436,  90, 183, 146, 335, 347, 119,   7, 271, 181,  88, 141,\n",
              "        126,  61, 373, 351, 242,  62,  91, 308, 250, 172, 265,  78,  28,\n",
              "         79,   1, 188, 167,  89, 164, 462, 209, 321, 254,  94, 364,  96,\n",
              "        356, 149, 363, 275, 325, 341, 260, 358,  87, 303,  98, 327, 337,\n",
              "        322, 102,  99, 370,  84, 212,  63,  81, 191, 360, 332,  80,  85,\n",
              "        247, 150, 175, 382, 261, 336,  58, 206, 112, 199, 133, 208, 253,\n",
              "        135, 278, 140, 298, 273, 124, 281, 162, 323, 349, 117,   2, 256,\n",
              "        333, 116, 268, 136, 198, 357, 259, 353, 174, 371, 205, 246,  69,\n",
              "        315, 110, 461, 184, 270, 127, 187,  64, 130, 346, 100, 352, 808,\n",
              "        113, 378, 292, 287, 107, 293, 139, 138, 193, 274,  97, 103, 359,\n",
              "        185, 674, 211, 300, 334, 280, 479,  95, 262, 362, 225,   3, 366,\n",
              "         60, 190, 368, 122, 343, 131, 365, 299, 115, 316, 180, 154, 313,\n",
              "        264, 350,  73, 232, 204, 143, 375, 186, 344, 210, 248, 177, 221,\n",
              "        189, 104, 258, 305, 171, 120, 317, 178, 386, 118, 404, 374, 282,\n",
              "        179, 284, 227, 291, 173, 871, 238, 294, 222, 435, 340, 426, 239,\n",
              "         83, 111, 415, 255, 235, 244,  38, 683, 329,  59, 151, 192, 158,\n",
              "        338, 388, 165, 348, 197, 295, 109, 484, 326, 369, 397, 414, 319,\n",
              "        474,  93, 249, 272, 355, 195,  82, 541, 231, 153, 201, 761, 114,\n",
              "        385, 267, 161, 467,  75, 106, 223, 312, 148, 309, 283,  86, 166,\n",
              "        160, 450, 500, 311, 123, 159, 687, 224, 361,  74,  76, 286,  77,\n",
              "         57, 219, 331, 804, 144, 234], dtype=int64),\n",
              " 'previous': array([ 0,  4,  1,  3,  2,  5, 20,  7,  6, 10,  9,  8, 18, 19, 12, 13, 11,\n",
              "        14, 15, 24, 17, 22, 23, 25], dtype=int64),\n",
              " 'poutcome': array(['unknown', 'failure', 'other', 'success'], dtype=object),\n",
              " 'y': array(['no', 'yes'], dtype=object)}"
            ]
          },
          "metadata": {},
          "output_type": "display_data"
        }
      ],
      "source": [
        "# show unique values from dataset\n",
        "unique_values = {col: df[col].unique() for col in df.columns}\n",
        "display(unique_values)"
      ]
    },
    {
      "cell_type": "code",
      "execution_count": 9,
      "metadata": {
        "colab": {
          "background_save": true,
          "base_uri": "https://localhost:8080/",
          "height": 472
        },
        "id": "Wx7tz0AVy_ky",
        "outputId": "c5b62dca-5150-44cb-e9c5-58cf506a797f"
      },
      "outputs": [
        {
          "data": {
            "image/png": "[encoded data removed]",
            "text/plain": [
              "<Figure size 640x480 with 1 Axes>"
            ]
          },
          "metadata": {},
          "output_type": "display_data"
        }
      ],
      "source": [
        "# show how many attrition\n",
        "ax = sns.countplot(data=df, x='y')\n",
        "plt.title('Count of y')\n",
        "\n",
        "# Add labels to the bars\n",
        "for container in ax.containers:\n",
        "    ax.bar_label(container)\n",
        "plt.show()\n",
        "\n",
        "# imbalance dataset but it's okay let us try firsttt"
      ]
    },
    {
      "cell_type": "markdown",
      "metadata": {
        "id": "lMkqqlOGDjV7"
      },
      "source": [
        "# Preprocessing"
      ]
    },
    {
      "cell_type": "code",
      "execution_count": 10,
      "metadata": {
        "colab": {
          "background_save": true
        },
        "id": "fTjDCJ-1s3a_"
      },
      "outputs": [],
      "source": [
        "# Ganti 'unknown' dengan np.nan\n",
        "df.replace('unknown', np.nan, inplace=True)\n",
        "\n",
        "# Cek ulang missing\n",
        "df.isnull().sum()\n",
        "\n",
        "# Ubah nilai -1 di kolom pdays (ganti -1 jadi NaN)\n",
        "df['pdays'] = df['pdays'].replace(-1, np.nan)\n"
      ]
    },
    {
      "cell_type": "code",
      "execution_count": 11,
      "metadata": {
        "colab": {
          "background_save": true,
          "base_uri": "https://localhost:8080/"
        },
        "id": "JN49_4Uds5CJ",
        "outputId": "871b2bc4-613f-4e11-ea53-27e920d91d57"
      },
      "outputs": [
        {
          "name": "stdout",
          "output_type": "stream",
          "text": [
            "age             0\n",
            "job            38\n",
            "marital         0\n",
            "education     187\n",
            "default         0\n",
            "balance         0\n",
            "housing         0\n",
            "loan            0\n",
            "contact      1324\n",
            "day             0\n",
            "month           0\n",
            "duration        0\n",
            "campaign        0\n",
            "pdays        3705\n",
            "previous        0\n",
            "poutcome     3705\n",
            "y               0\n",
            "dtype: int64\n"
          ]
        }
      ],
      "source": [
        "# Missing values\n",
        "print(df.isnull().sum())"
      ]
    },
    {
      "cell_type": "code",
      "execution_count": 12,
      "metadata": {
        "colab": {
          "background_save": true,
          "base_uri": "https://localhost:8080/"
        },
        "id": "QIUl79ApuSE7",
        "outputId": "648b1ce0-7bcc-4078-d769-162f84d9cf0c"
      },
      "outputs": [
        {
          "name": "stderr",
          "output_type": "stream",
          "text": [
            "C:\\Users\\LENOVO\\AppData\\Local\\Temp\\ipykernel_12728\\2280956795.py:2: FutureWarning: A value is trying to be set on a copy of a DataFrame or Series through chained assignment using an inplace method.\n",
            "The behavior will change in pandas 3.0. This inplace method will never work because the intermediate object on which we are setting values always behaves as a copy.\n",
            "\n",
            "For example, when doing 'df[col].method(value, inplace=True)', try using 'df.method({col: value}, inplace=True)' or df[col] = df[col].method(value) instead, to perform the operation inplace on the original object.\n",
            "\n",
            "\n",
            "  df['job'].fillna(df['job'].mode()[0], inplace=True)\n",
            "C:\\Users\\LENOVO\\AppData\\Local\\Temp\\ipykernel_12728\\2280956795.py:3: FutureWarning: A value is trying to be set on a copy of a DataFrame or Series through chained assignment using an inplace method.\n",
            "The behavior will change in pandas 3.0. This inplace method will never work because the intermediate object on which we are setting values always behaves as a copy.\n",
            "\n",
            "For example, when doing 'df[col].method(value, inplace=True)', try using 'df.method({col: value}, inplace=True)' or df[col] = df[col].method(value) instead, to perform the operation inplace on the original object.\n",
            "\n",
            "\n",
            "  df['education'].fillna(df['education'].mode()[0], inplace=True)\n"
          ]
        }
      ],
      "source": [
        "# Ubah data kategorikal yang null dengan modus\n",
        "df['job'].fillna(df['job'].mode()[0], inplace=True)\n",
        "df['education'].fillna(df['education'].mode()[0], inplace=True)\n",
        "\n",
        "# Kategori baru untuk missing yang informatif\n",
        "df['pdays'] = df['pdays'].fillna(-1)  # balikin ke -1 untuk nandai \"belum pernah dihubungi\"\n",
        "df['poutcome'] = df['poutcome'].fillna('not_contacted')\n",
        "\n",
        "# Ubah yang null dalam contact anggep aja no contact info\n",
        "df['contact'] = df['contact'].fillna('no_contact_info')\n"
      ]
    },
    {
      "cell_type": "code",
      "execution_count": 13,
      "metadata": {
        "colab": {
          "background_save": true,
          "base_uri": "https://localhost:8080/",
          "height": 410
        },
        "id": "cbx5AvScvNKr",
        "outputId": "c803aac4-22f1-448a-c416-41b43d6e1809"
      },
      "outputs": [
        {
          "data": {
            "image/png": "[encoded data removed]",
            "text/plain": [
              "<Figure size 800x400 with 1 Axes>"
            ]
          },
          "metadata": {},
          "output_type": "display_data"
        }
      ],
      "source": [
        "plt.figure(figsize=(8,4))\n",
        "sns.histplot(df['duration'], bins=30, kde=True)\n",
        "plt.title('Distribution of Call Duration')\n",
        "plt.xlabel('Duration (seconds)')\n",
        "plt.ylabel('Count')\n",
        "plt.show()\n"
      ]
    },
    {
      "cell_type": "code",
      "execution_count": 14,
      "metadata": {
        "colab": {
          "background_save": true,
          "base_uri": "https://localhost:8080/",
          "height": 552
        },
        "id": "Y8Ef_wkuvRL6",
        "outputId": "234f168c-c353-4fe0-fd0a-461d76ac0ec1"
      },
      "outputs": [
        {
          "data": {
            "image/png": "[encoded data removed]",
            "text/plain": [
              "<Figure size 1000x500 with 1 Axes>"
            ]
          },
          "metadata": {},
          "output_type": "display_data"
        }
      ],
      "source": [
        "plt.figure(figsize=(10,5))\n",
        "sns.countplot(x='job', hue='y', data=df, order=df['job'].value_counts().index)\n",
        "plt.xticks(rotation=45)\n",
        "plt.title('Job Type vs Subscription Outcome')\n",
        "plt.xlabel('Job')\n",
        "plt.ylabel('Count')\n",
        "plt.show()\n"
      ]
    },
    {
      "cell_type": "code",
      "execution_count": 15,
      "metadata": {
        "colab": {
          "background_save": true,
          "base_uri": "https://localhost:8080/",
          "height": 545
        },
        "id": "Vk8fsiO9vWev",
        "outputId": "c8b31286-9322-43cf-ff41-e53c6cf93286"
      },
      "outputs": [
        {
          "data": {
            "image/png": "[encoded data removed]",
            "text/plain": [
              "<Figure size 800x600 with 2 Axes>"
            ]
          },
          "metadata": {},
          "output_type": "display_data"
        }
      ],
      "source": [
        "plt.figure(figsize=(8,6))\n",
        "sns.heatmap(df.corr(numeric_only=True), annot=True, cmap='coolwarm')\n",
        "plt.title('Correlation Matrix of Numerical Features')\n",
        "plt.show()\n"
      ]
    },
    {
      "cell_type": "markdown",
      "metadata": {
        "id": "2zS6qmE7DatD"
      },
      "source": [
        "# Feature Encoding"
      ]
    },
    {
      "cell_type": "code",
      "execution_count": 16,
      "metadata": {
        "colab": {
          "background_save": true,
          "base_uri": "https://localhost:8080/",
          "height": 206
        },
        "id": "DmMFOCqawrIt",
        "outputId": "db9864ca-68fe-4a3e-f080-9a2364f4ba43"
      },
      "outputs": [
        {
          "data": {
            "text/html": [
              "<div>\n",
              "<style scoped>\n",
              "    .dataframe tbody tr th:only-of-type {\n",
              "        vertical-align: middle;\n",
              "    }\n",
              "\n",
              "    .dataframe tbody tr th {\n",
              "        vertical-align: top;\n",
              "    }\n",
              "\n",
              "    .dataframe thead th {\n",
              "        text-align: right;\n",
              "    }\n",
              "</style>\n",
              "<table border=\"1\" class=\"dataframe\">\n",
              "  <thead>\n",
              "    <tr style=\"text-align: right;\">\n",
              "      <th></th>\n",
              "      <th>age</th>\n",
              "      <th>job</th>\n",
              "      <th>marital</th>\n",
              "      <th>education</th>\n",
              "      <th>default</th>\n",
              "      <th>balance</th>\n",
              "      <th>housing</th>\n",
              "      <th>loan</th>\n",
              "      <th>contact</th>\n",
              "      <th>day</th>\n",
              "      <th>month</th>\n",
              "      <th>duration</th>\n",
              "      <th>campaign</th>\n",
              "      <th>pdays</th>\n",
              "      <th>previous</th>\n",
              "      <th>poutcome</th>\n",
              "      <th>y</th>\n",
              "    </tr>\n",
              "  </thead>\n",
              "  <tbody>\n",
              "    <tr>\n",
              "      <th>0</th>\n",
              "      <td>30</td>\n",
              "      <td>9</td>\n",
              "      <td>0</td>\n",
              "      <td>0</td>\n",
              "      <td>0</td>\n",
              "      <td>1787</td>\n",
              "      <td>0</td>\n",
              "      <td>0</td>\n",
              "      <td>0</td>\n",
              "      <td>19</td>\n",
              "      <td>9</td>\n",
              "      <td>79</td>\n",
              "      <td>1</td>\n",
              "      <td>-1</td>\n",
              "      <td>0</td>\n",
              "      <td>0</td>\n",
              "      <td>0</td>\n",
              "    </tr>\n",
              "    <tr>\n",
              "      <th>1</th>\n",
              "      <td>33</td>\n",
              "      <td>3</td>\n",
              "      <td>0</td>\n",
              "      <td>1</td>\n",
              "      <td>0</td>\n",
              "      <td>4789</td>\n",
              "      <td>1</td>\n",
              "      <td>1</td>\n",
              "      <td>0</td>\n",
              "      <td>11</td>\n",
              "      <td>4</td>\n",
              "      <td>220</td>\n",
              "      <td>1</td>\n",
              "      <td>339</td>\n",
              "      <td>4</td>\n",
              "      <td>1</td>\n",
              "      <td>0</td>\n",
              "    </tr>\n",
              "    <tr>\n",
              "      <th>2</th>\n",
              "      <td>35</td>\n",
              "      <td>4</td>\n",
              "      <td>1</td>\n",
              "      <td>2</td>\n",
              "      <td>0</td>\n",
              "      <td>1350</td>\n",
              "      <td>1</td>\n",
              "      <td>0</td>\n",
              "      <td>0</td>\n",
              "      <td>16</td>\n",
              "      <td>3</td>\n",
              "      <td>185</td>\n",
              "      <td>1</td>\n",
              "      <td>330</td>\n",
              "      <td>1</td>\n",
              "      <td>1</td>\n",
              "      <td>0</td>\n",
              "    </tr>\n",
              "    <tr>\n",
              "      <th>3</th>\n",
              "      <td>30</td>\n",
              "      <td>4</td>\n",
              "      <td>0</td>\n",
              "      <td>2</td>\n",
              "      <td>0</td>\n",
              "      <td>1476</td>\n",
              "      <td>1</td>\n",
              "      <td>1</td>\n",
              "      <td>2</td>\n",
              "      <td>3</td>\n",
              "      <td>5</td>\n",
              "      <td>199</td>\n",
              "      <td>4</td>\n",
              "      <td>-1</td>\n",
              "      <td>0</td>\n",
              "      <td>0</td>\n",
              "      <td>0</td>\n",
              "    </tr>\n",
              "    <tr>\n",
              "      <th>4</th>\n",
              "      <td>59</td>\n",
              "      <td>1</td>\n",
              "      <td>0</td>\n",
              "      <td>1</td>\n",
              "      <td>0</td>\n",
              "      <td>0</td>\n",
              "      <td>1</td>\n",
              "      <td>0</td>\n",
              "      <td>2</td>\n",
              "      <td>5</td>\n",
              "      <td>4</td>\n",
              "      <td>226</td>\n",
              "      <td>1</td>\n",
              "      <td>-1</td>\n",
              "      <td>0</td>\n",
              "      <td>0</td>\n",
              "      <td>0</td>\n",
              "    </tr>\n",
              "  </tbody>\n",
              "</table>\n",
              "</div>"
            ],
            "text/plain": [
              "   age  job  marital  education  default  balance  housing  loan  contact  \\\n",
              "0   30    9        0          0        0     1787        0     0        0   \n",
              "1   33    3        0          1        0     4789        1     1        0   \n",
              "2   35    4        1          2        0     1350        1     0        0   \n",
              "3   30    4        0          2        0     1476        1     1        2   \n",
              "4   59    1        0          1        0        0        1     0        2   \n",
              "\n",
              "   day  month  duration  campaign  pdays  previous  poutcome  y  \n",
              "0   19      9        79         1     -1         0         0  0  \n",
              "1   11      4       220         1    339         4         1  0  \n",
              "2   16      3       185         1    330         1         1  0  \n",
              "3    3      5       199         4     -1         0         0  0  \n",
              "4    5      4       226         1     -1         0         0  0  "
            ]
          },
          "execution_count": 16,
          "metadata": {},
          "output_type": "execute_result"
        }
      ],
      "source": [
        "# Salin dataset bersih sebelum encode\n",
        "df_encoded = df.copy()\n",
        "\n",
        "# Binary columns\n",
        "df_encoded['default'] = df_encoded['default'].map({'no': 0, 'yes': 1})\n",
        "df_encoded['housing'] = df_encoded['housing'].map({'no': 0, 'yes': 1})\n",
        "df_encoded['loan']    = df_encoded['loan'].map({'no': 0, 'yes': 1})\n",
        "df_encoded['y']       = df_encoded['y'].map({'no': 0, 'yes': 1})\n",
        "\n",
        "# Multi-category columns\n",
        "df_encoded['marital'] = df_encoded['marital'].map({'married': 0, 'single': 1, 'divorced': 2})\n",
        "df_encoded['education'] = df_encoded['education'].map({'primary': 0, 'secondary': 1, 'tertiary': 2})\n",
        "\n",
        "job_map = {\n",
        "    'admin.': 0,\n",
        "    'blue-collar': 1,\n",
        "    'technician': 2,\n",
        "    'services': 3,\n",
        "    'management': 4,\n",
        "    'retired': 5,\n",
        "    'entrepreneur': 6,\n",
        "    'housemaid': 7,\n",
        "    'self-employed': 8,\n",
        "    'unemployed': 9,\n",
        "    'student': 10\n",
        "}\n",
        "df_encoded['job'] = df_encoded['job'].map(job_map)\n",
        "\n",
        "df_encoded['contact'] = df_encoded['contact'].map({'cellular': 0, 'telephone': 1, 'no_contact_info': 2})\n",
        "df_encoded['month']   = df_encoded['month'].map({'jan':0,'feb':1,'mar':2,'apr':3,'may':4,'jun':5,\n",
        "                                                  'jul':6,'aug':7,'sep':8,'oct':9,'nov':10,'dec':11})\n",
        "df_encoded['poutcome'] = df_encoded['poutcome'].map({'not_contacted':0,'failure':1,'other':2,'success':3})\n",
        "df_encoded['pdays'] = df_encoded['pdays'].astype(int)\n",
        "\n",
        "# Cek hasil\n",
        "df_encoded.head()\n"
      ]
    },
    {
      "cell_type": "code",
      "execution_count": 17,
      "metadata": {
        "colab": {
          "background_save": true,
          "base_uri": "https://localhost:8080/"
        },
        "id": "1UIbVvERwySh",
        "outputId": "4d2826a6-03d5-47e5-9425-45e1aa113570"
      },
      "outputs": [
        {
          "name": "stdout",
          "output_type": "stream",
          "text": [
            "<class 'pandas.core.frame.DataFrame'>\n",
            "RangeIndex: 4521 entries, 0 to 4520\n",
            "Data columns (total 17 columns):\n",
            " #   Column     Non-Null Count  Dtype\n",
            "---  ------     --------------  -----\n",
            " 0   age        4521 non-null   int64\n",
            " 1   job        4521 non-null   int64\n",
            " 2   marital    4521 non-null   int64\n",
            " 3   education  4521 non-null   int64\n",
            " 4   default    4521 non-null   int64\n",
            " 5   balance    4521 non-null   int64\n",
            " 6   housing    4521 non-null   int64\n",
            " 7   loan       4521 non-null   int64\n",
            " 8   contact    4521 non-null   int64\n",
            " 9   day        4521 non-null   int64\n",
            " 10  month      4521 non-null   int64\n",
            " 11  duration   4521 non-null   int64\n",
            " 12  campaign   4521 non-null   int64\n",
            " 13  pdays      4521 non-null   int32\n",
            " 14  previous   4521 non-null   int64\n",
            " 15  poutcome   4521 non-null   int64\n",
            " 16  y          4521 non-null   int64\n",
            "dtypes: int32(1), int64(16)\n",
            "memory usage: 582.9 KB\n"
          ]
        }
      ],
      "source": [
        "df_encoded.info()"
      ]
    },
    {
      "cell_type": "code",
      "execution_count": 18,
      "metadata": {
        "colab": {
          "background_save": true,
          "base_uri": "https://localhost:8080/",
          "height": 206
        },
        "id": "V6LQ2hxu2u0e",
        "outputId": "05e10a43-f8d8-465d-ffed-d3cc1f21376f"
      },
      "outputs": [
        {
          "data": {
            "text/html": [
              "<div>\n",
              "<style scoped>\n",
              "    .dataframe tbody tr th:only-of-type {\n",
              "        vertical-align: middle;\n",
              "    }\n",
              "\n",
              "    .dataframe tbody tr th {\n",
              "        vertical-align: top;\n",
              "    }\n",
              "\n",
              "    .dataframe thead th {\n",
              "        text-align: right;\n",
              "    }\n",
              "</style>\n",
              "<table border=\"1\" class=\"dataframe\">\n",
              "  <thead>\n",
              "    <tr style=\"text-align: right;\">\n",
              "      <th></th>\n",
              "      <th>age</th>\n",
              "      <th>job</th>\n",
              "      <th>marital</th>\n",
              "      <th>education</th>\n",
              "      <th>default</th>\n",
              "      <th>balance</th>\n",
              "      <th>housing</th>\n",
              "      <th>loan</th>\n",
              "      <th>contact</th>\n",
              "      <th>day</th>\n",
              "      <th>month</th>\n",
              "      <th>duration</th>\n",
              "      <th>campaign</th>\n",
              "      <th>pdays</th>\n",
              "      <th>previous</th>\n",
              "      <th>poutcome</th>\n",
              "      <th>y</th>\n",
              "    </tr>\n",
              "  </thead>\n",
              "  <tbody>\n",
              "    <tr>\n",
              "      <th>0</th>\n",
              "      <td>30</td>\n",
              "      <td>9</td>\n",
              "      <td>0</td>\n",
              "      <td>0</td>\n",
              "      <td>0</td>\n",
              "      <td>1787</td>\n",
              "      <td>0</td>\n",
              "      <td>0</td>\n",
              "      <td>0</td>\n",
              "      <td>19</td>\n",
              "      <td>9</td>\n",
              "      <td>79</td>\n",
              "      <td>1</td>\n",
              "      <td>-1</td>\n",
              "      <td>0</td>\n",
              "      <td>0</td>\n",
              "      <td>0</td>\n",
              "    </tr>\n",
              "    <tr>\n",
              "      <th>1</th>\n",
              "      <td>33</td>\n",
              "      <td>3</td>\n",
              "      <td>0</td>\n",
              "      <td>1</td>\n",
              "      <td>0</td>\n",
              "      <td>4789</td>\n",
              "      <td>1</td>\n",
              "      <td>1</td>\n",
              "      <td>0</td>\n",
              "      <td>11</td>\n",
              "      <td>4</td>\n",
              "      <td>220</td>\n",
              "      <td>1</td>\n",
              "      <td>339</td>\n",
              "      <td>4</td>\n",
              "      <td>1</td>\n",
              "      <td>0</td>\n",
              "    </tr>\n",
              "    <tr>\n",
              "      <th>2</th>\n",
              "      <td>35</td>\n",
              "      <td>4</td>\n",
              "      <td>1</td>\n",
              "      <td>2</td>\n",
              "      <td>0</td>\n",
              "      <td>1350</td>\n",
              "      <td>1</td>\n",
              "      <td>0</td>\n",
              "      <td>0</td>\n",
              "      <td>16</td>\n",
              "      <td>3</td>\n",
              "      <td>185</td>\n",
              "      <td>1</td>\n",
              "      <td>330</td>\n",
              "      <td>1</td>\n",
              "      <td>1</td>\n",
              "      <td>0</td>\n",
              "    </tr>\n",
              "    <tr>\n",
              "      <th>3</th>\n",
              "      <td>30</td>\n",
              "      <td>4</td>\n",
              "      <td>0</td>\n",
              "      <td>2</td>\n",
              "      <td>0</td>\n",
              "      <td>1476</td>\n",
              "      <td>1</td>\n",
              "      <td>1</td>\n",
              "      <td>2</td>\n",
              "      <td>3</td>\n",
              "      <td>5</td>\n",
              "      <td>199</td>\n",
              "      <td>4</td>\n",
              "      <td>-1</td>\n",
              "      <td>0</td>\n",
              "      <td>0</td>\n",
              "      <td>0</td>\n",
              "    </tr>\n",
              "    <tr>\n",
              "      <th>4</th>\n",
              "      <td>59</td>\n",
              "      <td>1</td>\n",
              "      <td>0</td>\n",
              "      <td>1</td>\n",
              "      <td>0</td>\n",
              "      <td>0</td>\n",
              "      <td>1</td>\n",
              "      <td>0</td>\n",
              "      <td>2</td>\n",
              "      <td>5</td>\n",
              "      <td>4</td>\n",
              "      <td>226</td>\n",
              "      <td>1</td>\n",
              "      <td>-1</td>\n",
              "      <td>0</td>\n",
              "      <td>0</td>\n",
              "      <td>0</td>\n",
              "    </tr>\n",
              "  </tbody>\n",
              "</table>\n",
              "</div>"
            ],
            "text/plain": [
              "   age  job  marital  education  default  balance  housing  loan  contact  \\\n",
              "0   30    9        0          0        0     1787        0     0        0   \n",
              "1   33    3        0          1        0     4789        1     1        0   \n",
              "2   35    4        1          2        0     1350        1     0        0   \n",
              "3   30    4        0          2        0     1476        1     1        2   \n",
              "4   59    1        0          1        0        0        1     0        2   \n",
              "\n",
              "   day  month  duration  campaign  pdays  previous  poutcome  y  \n",
              "0   19      9        79         1     -1         0         0  0  \n",
              "1   11      4       220         1    339         4         1  0  \n",
              "2   16      3       185         1    330         1         1  0  \n",
              "3    3      5       199         4     -1         0         0  0  \n",
              "4    5      4       226         1     -1         0         0  0  "
            ]
          },
          "execution_count": 18,
          "metadata": {},
          "output_type": "execute_result"
        }
      ],
      "source": [
        "df_encoded.head()"
      ]
    },
    {
      "cell_type": "code",
      "execution_count": 19,
      "metadata": {
        "colab": {
          "background_save": true,
          "base_uri": "https://localhost:8080/",
          "height": 617
        },
        "id": "XMavKArXkM16",
        "outputId": "8199858c-c7f3-46db-95d4-3d0491b49804"
      },
      "outputs": [
        {
          "data": {
            "text/plain": [
              "age           37\n",
              "job            4\n",
              "marital        1\n",
              "education      1\n",
              "default        0\n",
              "balance      715\n",
              "housing        1\n",
              "loan           0\n",
              "contact        2\n",
              "day           20\n",
              "month          4\n",
              "duration     247\n",
              "campaign       2\n",
              "pdays         -1\n",
              "previous       0\n",
              "poutcome       0\n",
              "y              0\n",
              "Name: 480, dtype: int64"
            ]
          },
          "execution_count": 19,
          "metadata": {},
          "output_type": "execute_result"
        }
      ],
      "source": [
        "# checking encode result\n",
        "df_encoded.loc[480]"
      ]
    },
    {
      "cell_type": "markdown",
      "metadata": {
        "id": "8e0dc4db"
      },
      "source": [
        "## Separate features and target\n",
        "\n",
        "### Subtask:\n",
        "Define the features (X) and the target variable (y).\n"
      ]
    },
    {
      "cell_type": "markdown",
      "metadata": {
        "id": "5922b0c4"
      },
      "source": [
        "**Reasoning**:\n",
        "Define the features (X) by dropping the target variable 'y' from the DataFrame and define the target variable (y) as the 'y' column.\n",
        "\n"
      ]
    },
    {
      "cell_type": "code",
      "execution_count": 20,
      "metadata": {
        "colab": {
          "background_save": true
        },
        "id": "e533c28f"
      },
      "outputs": [],
      "source": [
        "X = df_encoded.drop('y', axis=1)\n",
        "y = df_encoded['y']"
      ]
    },
    {
      "cell_type": "code",
      "execution_count": 21,
      "metadata": {
        "colab": {
          "background_save": true,
          "base_uri": "https://localhost:8080/",
          "height": 206
        },
        "id": "8zg9yC-Blp8Q",
        "outputId": "467609ca-a8ba-4ca4-9406-cf392ab3eceb"
      },
      "outputs": [
        {
          "data": {
            "text/html": [
              "<div>\n",
              "<style scoped>\n",
              "    .dataframe tbody tr th:only-of-type {\n",
              "        vertical-align: middle;\n",
              "    }\n",
              "\n",
              "    .dataframe tbody tr th {\n",
              "        vertical-align: top;\n",
              "    }\n",
              "\n",
              "    .dataframe thead th {\n",
              "        text-align: right;\n",
              "    }\n",
              "</style>\n",
              "<table border=\"1\" class=\"dataframe\">\n",
              "  <thead>\n",
              "    <tr style=\"text-align: right;\">\n",
              "      <th></th>\n",
              "      <th>age</th>\n",
              "      <th>job</th>\n",
              "      <th>marital</th>\n",
              "      <th>education</th>\n",
              "      <th>default</th>\n",
              "      <th>balance</th>\n",
              "      <th>housing</th>\n",
              "      <th>loan</th>\n",
              "      <th>contact</th>\n",
              "      <th>day</th>\n",
              "      <th>month</th>\n",
              "      <th>duration</th>\n",
              "      <th>campaign</th>\n",
              "      <th>pdays</th>\n",
              "      <th>previous</th>\n",
              "      <th>poutcome</th>\n",
              "    </tr>\n",
              "  </thead>\n",
              "  <tbody>\n",
              "    <tr>\n",
              "      <th>0</th>\n",
              "      <td>30</td>\n",
              "      <td>9</td>\n",
              "      <td>0</td>\n",
              "      <td>0</td>\n",
              "      <td>0</td>\n",
              "      <td>1787</td>\n",
              "      <td>0</td>\n",
              "      <td>0</td>\n",
              "      <td>0</td>\n",
              "      <td>19</td>\n",
              "      <td>9</td>\n",
              "      <td>79</td>\n",
              "      <td>1</td>\n",
              "      <td>-1</td>\n",
              "      <td>0</td>\n",
              "      <td>0</td>\n",
              "    </tr>\n",
              "    <tr>\n",
              "      <th>1</th>\n",
              "      <td>33</td>\n",
              "      <td>3</td>\n",
              "      <td>0</td>\n",
              "      <td>1</td>\n",
              "      <td>0</td>\n",
              "      <td>4789</td>\n",
              "      <td>1</td>\n",
              "      <td>1</td>\n",
              "      <td>0</td>\n",
              "      <td>11</td>\n",
              "      <td>4</td>\n",
              "      <td>220</td>\n",
              "      <td>1</td>\n",
              "      <td>339</td>\n",
              "      <td>4</td>\n",
              "      <td>1</td>\n",
              "    </tr>\n",
              "    <tr>\n",
              "      <th>2</th>\n",
              "      <td>35</td>\n",
              "      <td>4</td>\n",
              "      <td>1</td>\n",
              "      <td>2</td>\n",
              "      <td>0</td>\n",
              "      <td>1350</td>\n",
              "      <td>1</td>\n",
              "      <td>0</td>\n",
              "      <td>0</td>\n",
              "      <td>16</td>\n",
              "      <td>3</td>\n",
              "      <td>185</td>\n",
              "      <td>1</td>\n",
              "      <td>330</td>\n",
              "      <td>1</td>\n",
              "      <td>1</td>\n",
              "    </tr>\n",
              "    <tr>\n",
              "      <th>3</th>\n",
              "      <td>30</td>\n",
              "      <td>4</td>\n",
              "      <td>0</td>\n",
              "      <td>2</td>\n",
              "      <td>0</td>\n",
              "      <td>1476</td>\n",
              "      <td>1</td>\n",
              "      <td>1</td>\n",
              "      <td>2</td>\n",
              "      <td>3</td>\n",
              "      <td>5</td>\n",
              "      <td>199</td>\n",
              "      <td>4</td>\n",
              "      <td>-1</td>\n",
              "      <td>0</td>\n",
              "      <td>0</td>\n",
              "    </tr>\n",
              "    <tr>\n",
              "      <th>4</th>\n",
              "      <td>59</td>\n",
              "      <td>1</td>\n",
              "      <td>0</td>\n",
              "      <td>1</td>\n",
              "      <td>0</td>\n",
              "      <td>0</td>\n",
              "      <td>1</td>\n",
              "      <td>0</td>\n",
              "      <td>2</td>\n",
              "      <td>5</td>\n",
              "      <td>4</td>\n",
              "      <td>226</td>\n",
              "      <td>1</td>\n",
              "      <td>-1</td>\n",
              "      <td>0</td>\n",
              "      <td>0</td>\n",
              "    </tr>\n",
              "  </tbody>\n",
              "</table>\n",
              "</div>"
            ],
            "text/plain": [
              "   age  job  marital  education  default  balance  housing  loan  contact  \\\n",
              "0   30    9        0          0        0     1787        0     0        0   \n",
              "1   33    3        0          1        0     4789        1     1        0   \n",
              "2   35    4        1          2        0     1350        1     0        0   \n",
              "3   30    4        0          2        0     1476        1     1        2   \n",
              "4   59    1        0          1        0        0        1     0        2   \n",
              "\n",
              "   day  month  duration  campaign  pdays  previous  poutcome  \n",
              "0   19      9        79         1     -1         0         0  \n",
              "1   11      4       220         1    339         4         1  \n",
              "2   16      3       185         1    330         1         1  \n",
              "3    3      5       199         4     -1         0         0  \n",
              "4    5      4       226         1     -1         0         0  "
            ]
          },
          "execution_count": 21,
          "metadata": {},
          "output_type": "execute_result"
        }
      ],
      "source": [
        "X.head()"
      ]
    },
    {
      "cell_type": "code",
      "execution_count": 22,
      "metadata": {
        "colab": {
          "background_save": true,
          "base_uri": "https://localhost:8080/",
          "height": 241
        },
        "id": "E-GoH-eOlsfi",
        "outputId": "92353ed3-2f0c-405b-8b9d-afc772695bbd"
      },
      "outputs": [
        {
          "data": {
            "text/plain": [
              "0    0\n",
              "1    0\n",
              "2    0\n",
              "3    0\n",
              "4    0\n",
              "Name: y, dtype: int64"
            ]
          },
          "execution_count": 22,
          "metadata": {},
          "output_type": "execute_result"
        }
      ],
      "source": [
        "y.head()"
      ]
    },
    {
      "cell_type": "markdown",
      "metadata": {
        "id": "c1cab5e3"
      },
      "source": [
        "## Split data\n",
        "\n",
        "### Subtask:\n",
        "Split the encoded data into training and testing sets.\n"
      ]
    },
    {
      "cell_type": "markdown",
      "metadata": {
        "id": "19cd5dad"
      },
      "source": [
        "**Reasoning**:\n",
        "Split the encoded feature DataFrame X and the target Series y into training and testing sets.\n",
        "\n"
      ]
    },
    {
      "cell_type": "code",
      "execution_count": 23,
      "metadata": {
        "colab": {
          "background_save": true
        },
        "id": "8bff39ce"
      },
      "outputs": [],
      "source": [
        "from sklearn.model_selection import train_test_split\n",
        "\n",
        "X_train, X_test, y_train, y_test = train_test_split(X, y, test_size=0.2, random_state=42)"
      ]
    },
    {
      "cell_type": "code",
      "execution_count": 24,
      "metadata": {
        "colab": {
          "background_save": true,
          "base_uri": "https://localhost:8080/"
        },
        "id": "3wt4jSJ1venO",
        "outputId": "9a58e285-1d47-4165-8908-27677e17aad2"
      },
      "outputs": [
        {
          "data": {
            "text/plain": [
              "((3616, 16), (905, 16))"
            ]
          },
          "execution_count": 24,
          "metadata": {},
          "output_type": "execute_result"
        }
      ],
      "source": [
        "# check the shape of X_train and X_test\n",
        "\n",
        "X_train.shape, X_test.shape"
      ]
    },
    {
      "cell_type": "code",
      "execution_count": 25,
      "metadata": {
        "colab": {
          "background_save": true,
          "base_uri": "https://localhost:8080/",
          "height": 206
        },
        "id": "KoG5mTTMvgay",
        "outputId": "515fe1af-0f4a-4459-96d7-a5965869fb2f"
      },
      "outputs": [
        {
          "data": {
            "text/html": [
              "<div>\n",
              "<style scoped>\n",
              "    .dataframe tbody tr th:only-of-type {\n",
              "        vertical-align: middle;\n",
              "    }\n",
              "\n",
              "    .dataframe tbody tr th {\n",
              "        vertical-align: top;\n",
              "    }\n",
              "\n",
              "    .dataframe thead th {\n",
              "        text-align: right;\n",
              "    }\n",
              "</style>\n",
              "<table border=\"1\" class=\"dataframe\">\n",
              "  <thead>\n",
              "    <tr style=\"text-align: right;\">\n",
              "      <th></th>\n",
              "      <th>age</th>\n",
              "      <th>job</th>\n",
              "      <th>marital</th>\n",
              "      <th>education</th>\n",
              "      <th>default</th>\n",
              "      <th>balance</th>\n",
              "      <th>housing</th>\n",
              "      <th>loan</th>\n",
              "      <th>contact</th>\n",
              "      <th>day</th>\n",
              "      <th>month</th>\n",
              "      <th>duration</th>\n",
              "      <th>campaign</th>\n",
              "      <th>pdays</th>\n",
              "      <th>previous</th>\n",
              "      <th>poutcome</th>\n",
              "    </tr>\n",
              "  </thead>\n",
              "  <tbody>\n",
              "    <tr>\n",
              "      <th>978</th>\n",
              "      <td>34</td>\n",
              "      <td>6</td>\n",
              "      <td>2</td>\n",
              "      <td>2</td>\n",
              "      <td>0</td>\n",
              "      <td>262</td>\n",
              "      <td>0</td>\n",
              "      <td>0</td>\n",
              "      <td>0</td>\n",
              "      <td>20</td>\n",
              "      <td>10</td>\n",
              "      <td>371</td>\n",
              "      <td>1</td>\n",
              "      <td>-1</td>\n",
              "      <td>0</td>\n",
              "      <td>0</td>\n",
              "    </tr>\n",
              "    <tr>\n",
              "      <th>251</th>\n",
              "      <td>32</td>\n",
              "      <td>4</td>\n",
              "      <td>0</td>\n",
              "      <td>2</td>\n",
              "      <td>0</td>\n",
              "      <td>2349</td>\n",
              "      <td>0</td>\n",
              "      <td>0</td>\n",
              "      <td>0</td>\n",
              "      <td>14</td>\n",
              "      <td>7</td>\n",
              "      <td>134</td>\n",
              "      <td>5</td>\n",
              "      <td>-1</td>\n",
              "      <td>0</td>\n",
              "      <td>0</td>\n",
              "    </tr>\n",
              "    <tr>\n",
              "      <th>3139</th>\n",
              "      <td>34</td>\n",
              "      <td>2</td>\n",
              "      <td>1</td>\n",
              "      <td>1</td>\n",
              "      <td>0</td>\n",
              "      <td>1076</td>\n",
              "      <td>0</td>\n",
              "      <td>0</td>\n",
              "      <td>0</td>\n",
              "      <td>8</td>\n",
              "      <td>7</td>\n",
              "      <td>70</td>\n",
              "      <td>2</td>\n",
              "      <td>-1</td>\n",
              "      <td>0</td>\n",
              "      <td>0</td>\n",
              "    </tr>\n",
              "    <tr>\n",
              "      <th>1822</th>\n",
              "      <td>31</td>\n",
              "      <td>4</td>\n",
              "      <td>0</td>\n",
              "      <td>2</td>\n",
              "      <td>0</td>\n",
              "      <td>156</td>\n",
              "      <td>0</td>\n",
              "      <td>0</td>\n",
              "      <td>0</td>\n",
              "      <td>13</td>\n",
              "      <td>7</td>\n",
              "      <td>657</td>\n",
              "      <td>7</td>\n",
              "      <td>-1</td>\n",
              "      <td>0</td>\n",
              "      <td>0</td>\n",
              "    </tr>\n",
              "    <tr>\n",
              "      <th>4445</th>\n",
              "      <td>46</td>\n",
              "      <td>1</td>\n",
              "      <td>0</td>\n",
              "      <td>0</td>\n",
              "      <td>0</td>\n",
              "      <td>258</td>\n",
              "      <td>1</td>\n",
              "      <td>0</td>\n",
              "      <td>2</td>\n",
              "      <td>27</td>\n",
              "      <td>4</td>\n",
              "      <td>217</td>\n",
              "      <td>1</td>\n",
              "      <td>-1</td>\n",
              "      <td>0</td>\n",
              "      <td>0</td>\n",
              "    </tr>\n",
              "  </tbody>\n",
              "</table>\n",
              "</div>"
            ],
            "text/plain": [
              "      age  job  marital  education  default  balance  housing  loan  contact  \\\n",
              "978    34    6        2          2        0      262        0     0        0   \n",
              "251    32    4        0          2        0     2349        0     0        0   \n",
              "3139   34    2        1          1        0     1076        0     0        0   \n",
              "1822   31    4        0          2        0      156        0     0        0   \n",
              "4445   46    1        0          0        0      258        1     0        2   \n",
              "\n",
              "      day  month  duration  campaign  pdays  previous  poutcome  \n",
              "978    20     10       371         1     -1         0         0  \n",
              "251    14      7       134         5     -1         0         0  \n",
              "3139    8      7        70         2     -1         0         0  \n",
              "1822   13      7       657         7     -1         0         0  \n",
              "4445   27      4       217         1     -1         0         0  "
            ]
          },
          "execution_count": 25,
          "metadata": {},
          "output_type": "execute_result"
        }
      ],
      "source": [
        "X_train.head()"
      ]
    },
    {
      "cell_type": "code",
      "execution_count": 26,
      "metadata": {
        "colab": {
          "background_save": true,
          "base_uri": "https://localhost:8080/",
          "height": 206
        },
        "id": "dUCp2TkzvhND",
        "outputId": "8f8ae023-bd4c-4b4b-8756-1278ce49e21a"
      },
      "outputs": [
        {
          "data": {
            "text/html": [
              "<div>\n",
              "<style scoped>\n",
              "    .dataframe tbody tr th:only-of-type {\n",
              "        vertical-align: middle;\n",
              "    }\n",
              "\n",
              "    .dataframe tbody tr th {\n",
              "        vertical-align: top;\n",
              "    }\n",
              "\n",
              "    .dataframe thead th {\n",
              "        text-align: right;\n",
              "    }\n",
              "</style>\n",
              "<table border=\"1\" class=\"dataframe\">\n",
              "  <thead>\n",
              "    <tr style=\"text-align: right;\">\n",
              "      <th></th>\n",
              "      <th>age</th>\n",
              "      <th>job</th>\n",
              "      <th>marital</th>\n",
              "      <th>education</th>\n",
              "      <th>default</th>\n",
              "      <th>balance</th>\n",
              "      <th>housing</th>\n",
              "      <th>loan</th>\n",
              "      <th>contact</th>\n",
              "      <th>day</th>\n",
              "      <th>month</th>\n",
              "      <th>duration</th>\n",
              "      <th>campaign</th>\n",
              "      <th>pdays</th>\n",
              "      <th>previous</th>\n",
              "      <th>poutcome</th>\n",
              "    </tr>\n",
              "  </thead>\n",
              "  <tbody>\n",
              "    <tr>\n",
              "      <th>2398</th>\n",
              "      <td>51</td>\n",
              "      <td>6</td>\n",
              "      <td>0</td>\n",
              "      <td>1</td>\n",
              "      <td>1</td>\n",
              "      <td>-2082</td>\n",
              "      <td>0</td>\n",
              "      <td>1</td>\n",
              "      <td>0</td>\n",
              "      <td>28</td>\n",
              "      <td>6</td>\n",
              "      <td>123</td>\n",
              "      <td>6</td>\n",
              "      <td>-1</td>\n",
              "      <td>0</td>\n",
              "      <td>0</td>\n",
              "    </tr>\n",
              "    <tr>\n",
              "      <th>800</th>\n",
              "      <td>50</td>\n",
              "      <td>4</td>\n",
              "      <td>0</td>\n",
              "      <td>2</td>\n",
              "      <td>0</td>\n",
              "      <td>2881</td>\n",
              "      <td>0</td>\n",
              "      <td>0</td>\n",
              "      <td>0</td>\n",
              "      <td>5</td>\n",
              "      <td>7</td>\n",
              "      <td>510</td>\n",
              "      <td>2</td>\n",
              "      <td>2</td>\n",
              "      <td>5</td>\n",
              "      <td>2</td>\n",
              "    </tr>\n",
              "    <tr>\n",
              "      <th>2288</th>\n",
              "      <td>50</td>\n",
              "      <td>2</td>\n",
              "      <td>0</td>\n",
              "      <td>1</td>\n",
              "      <td>0</td>\n",
              "      <td>1412</td>\n",
              "      <td>0</td>\n",
              "      <td>0</td>\n",
              "      <td>0</td>\n",
              "      <td>6</td>\n",
              "      <td>7</td>\n",
              "      <td>131</td>\n",
              "      <td>3</td>\n",
              "      <td>-1</td>\n",
              "      <td>0</td>\n",
              "      <td>0</td>\n",
              "    </tr>\n",
              "    <tr>\n",
              "      <th>2344</th>\n",
              "      <td>37</td>\n",
              "      <td>4</td>\n",
              "      <td>0</td>\n",
              "      <td>2</td>\n",
              "      <td>0</td>\n",
              "      <td>0</td>\n",
              "      <td>1</td>\n",
              "      <td>0</td>\n",
              "      <td>2</td>\n",
              "      <td>3</td>\n",
              "      <td>5</td>\n",
              "      <td>247</td>\n",
              "      <td>13</td>\n",
              "      <td>-1</td>\n",
              "      <td>0</td>\n",
              "      <td>0</td>\n",
              "    </tr>\n",
              "    <tr>\n",
              "      <th>3615</th>\n",
              "      <td>31</td>\n",
              "      <td>0</td>\n",
              "      <td>1</td>\n",
              "      <td>1</td>\n",
              "      <td>0</td>\n",
              "      <td>757</td>\n",
              "      <td>0</td>\n",
              "      <td>0</td>\n",
              "      <td>0</td>\n",
              "      <td>3</td>\n",
              "      <td>1</td>\n",
              "      <td>343</td>\n",
              "      <td>2</td>\n",
              "      <td>-1</td>\n",
              "      <td>0</td>\n",
              "      <td>0</td>\n",
              "    </tr>\n",
              "  </tbody>\n",
              "</table>\n",
              "</div>"
            ],
            "text/plain": [
              "      age  job  marital  education  default  balance  housing  loan  contact  \\\n",
              "2398   51    6        0          1        1    -2082        0     1        0   \n",
              "800    50    4        0          2        0     2881        0     0        0   \n",
              "2288   50    2        0          1        0     1412        0     0        0   \n",
              "2344   37    4        0          2        0        0        1     0        2   \n",
              "3615   31    0        1          1        0      757        0     0        0   \n",
              "\n",
              "      day  month  duration  campaign  pdays  previous  poutcome  \n",
              "2398   28      6       123         6     -1         0         0  \n",
              "800     5      7       510         2      2         5         2  \n",
              "2288    6      7       131         3     -1         0         0  \n",
              "2344    3      5       247        13     -1         0         0  \n",
              "3615    3      1       343         2     -1         0         0  "
            ]
          },
          "execution_count": 26,
          "metadata": {},
          "output_type": "execute_result"
        }
      ],
      "source": [
        "X_test.head()"
      ]
    },
    {
      "cell_type": "markdown",
      "metadata": {
        "id": "tYKRF9dGvnIs"
      },
      "source": [
        "# Decision Tree Classifier Tanpa Hyperparameter"
      ]
    },
    {
      "cell_type": "code",
      "execution_count": 27,
      "metadata": {
        "colab": {
          "background_save": true,
          "base_uri": "https://localhost:8080/"
        },
        "id": "9cmcpAAsmJEc",
        "outputId": "f1e82e99-f66d-4ca2-fe1d-e61868ab463b"
      },
      "outputs": [
        {
          "name": "stdout",
          "output_type": "stream",
          "text": [
            "\n",
            "=== Classification Report (Training Set) ===\n",
            "              precision    recall  f1-score   support\n",
            "\n",
            "           0       1.00      1.00      1.00      3193\n",
            "           1       1.00      1.00      1.00       423\n",
            "\n",
            "    accuracy                           1.00      3616\n",
            "   macro avg       1.00      1.00      1.00      3616\n",
            "weighted avg       1.00      1.00      1.00      3616\n",
            "\n",
            "\n",
            "=== Classification Report (Test Set) ===\n",
            "              precision    recall  f1-score   support\n",
            "\n",
            "           0       0.93      0.93      0.93       807\n",
            "           1       0.43      0.46      0.44        98\n",
            "\n",
            "    accuracy                           0.88       905\n",
            "   macro avg       0.68      0.69      0.69       905\n",
            "weighted avg       0.88      0.88      0.88       905\n",
            "\n"
          ]
        }
      ],
      "source": [
        "from sklearn.tree import DecisionTreeClassifier\n",
        "from sklearn.metrics import f1_score, precision_score, recall_score, classification_report\n",
        "\n",
        "tree = DecisionTreeClassifier(random_state=0)\n",
        "tree.fit(X_train, y_train)\n",
        "\n",
        "y_pred_train = tree.predict(X_train)\n",
        "y_pred_test = tree.predict(X_test)\n",
        "\n",
        "print(\"\\n=== Classification Report (Training Set) ===\")\n",
        "print(classification_report(y_train, y_pred_train))\n",
        "\n",
        "print(\"\\n=== Classification Report (Test Set) ===\")\n",
        "print(classification_report(y_test, y_pred_test))"
      ]
    },
    {
      "cell_type": "markdown",
      "metadata": {
        "id": "-oWjFtA8D5jB"
      },
      "source": [
        "\n",
        "# Random Forest Classifier Tanpa Hyperparameter"
      ]
    },
    {
      "cell_type": "code",
      "execution_count": 28,
      "metadata": {
        "colab": {
          "background_save": true,
          "base_uri": "https://localhost:8080/"
        },
        "id": "B8zyFiaaD71B",
        "outputId": "f1a18fdc-d8ba-4b21-c49b-3a1a3b7e39e2"
      },
      "outputs": [
        {
          "name": "stdout",
          "output_type": "stream",
          "text": [
            "\n",
            "=== Classification Report (Training Set) ===\n",
            "              precision    recall  f1-score   support\n",
            "\n",
            "           0       1.00      1.00      1.00      3193\n",
            "           1       1.00      1.00      1.00       423\n",
            "\n",
            "    accuracy                           1.00      3616\n",
            "   macro avg       1.00      1.00      1.00      3616\n",
            "weighted avg       1.00      1.00      1.00      3616\n",
            "\n",
            "\n",
            "=== Classification Report (Test Set) ===\n",
            "              precision    recall  f1-score   support\n",
            "\n",
            "           0       0.92      0.98      0.95       807\n",
            "           1       0.62      0.33      0.43        98\n",
            "\n",
            "    accuracy                           0.90       905\n",
            "   macro avg       0.77      0.65      0.69       905\n",
            "weighted avg       0.89      0.90      0.89       905\n",
            "\n"
          ]
        }
      ],
      "source": [
        "# Inisialisasi model Random Forest\n",
        "forest = RandomForestClassifier(random_state=0)\n",
        "\n",
        "# Latih model dengan data training\n",
        "forest.fit(X_train, y_train)\n",
        "\n",
        "# Prediksi pada data training dan test\n",
        "y_pred_train = forest.predict(X_train)\n",
        "y_pred_test = forest.predict(X_test)\n",
        "\n",
        "# Tampilkan hasil evaluasi\n",
        "print(\"\\n=== Classification Report (Training Set) ===\")\n",
        "print(classification_report(y_train, y_pred_train))\n",
        "\n",
        "print(\"\\n=== Classification Report (Test Set) ===\")\n",
        "print(classification_report(y_test, y_pred_test))"
      ]
    },
    {
      "cell_type": "markdown",
      "metadata": {
        "id": "PcsFfrPQEP5i"
      },
      "source": [
        "# XGBoost Tanpa Hyperparameter"
      ]
    },
    {
      "cell_type": "code",
      "execution_count": 29,
      "metadata": {
        "colab": {
          "background_save": true,
          "base_uri": "https://localhost:8080/"
        },
        "id": "M6x3HMKo4kSS",
        "outputId": "67e5fbc0-3ae3-4e33-a06e-a03fa5d5d541"
      },
      "outputs": [
        {
          "name": "stdout",
          "output_type": "stream",
          "text": [
            "\n",
            "=== Classification Report (Training Set) ===\n",
            "              precision    recall  f1-score   support\n",
            "\n",
            "           0       1.00      1.00      1.00      3193\n",
            "           1       1.00      0.99      1.00       423\n",
            "\n",
            "    accuracy                           1.00      3616\n",
            "   macro avg       1.00      1.00      1.00      3616\n",
            "weighted avg       1.00      1.00      1.00      3616\n",
            "\n",
            "\n",
            "=== Classification Report (Test Set) ===\n",
            "              precision    recall  f1-score   support\n",
            "\n",
            "           0       0.93      0.96      0.94       807\n",
            "           1       0.51      0.38      0.43        98\n",
            "\n",
            "    accuracy                           0.89       905\n",
            "   macro avg       0.72      0.67      0.69       905\n",
            "weighted avg       0.88      0.89      0.89       905\n",
            "\n"
          ]
        },
        {
          "name": "stderr",
          "output_type": "stream",
          "text": [
            "c:\\Users\\LENOVO\\anaconda3\\Lib\\site-packages\\xgboost\\training.py:183: UserWarning: [22:34:28] WARNING: C:\\actions-runner\\_work\\xgboost\\xgboost\\src\\learner.cc:738: \n",
            "Parameters: { \"use_label_encoder\" } are not used.\n",
            "\n",
            "  bst.update(dtrain, iteration=i, fobj=obj)\n"
          ]
        }
      ],
      "source": [
        "from xgboost import XGBClassifier\n",
        "from sklearn.metrics import classification_report\n",
        "\n",
        "# Inisialisasi model XGBoost tanpa hyperparameter tambahan\n",
        "xgb_model = XGBClassifier(random_state=0, use_label_encoder=False, eval_metric='logloss')\n",
        "\n",
        "# Latih model\n",
        "xgb_model.fit(X_train, y_train)\n",
        "\n",
        "# Prediksi data train dan test\n",
        "y_pred_train = xgb_model.predict(X_train)\n",
        "y_pred_test = xgb_model.predict(X_test)\n",
        "\n",
        "# Tampilkan hasil evaluasi\n",
        "print(\"\\n=== Classification Report (Training Set) ===\")\n",
        "print(classification_report(y_train, y_pred_train))\n",
        "\n",
        "print(\"\\n=== Classification Report (Test Set) ===\")\n",
        "print(classification_report(y_test, y_pred_test))\n"
      ]
    },
    {
      "cell_type": "code",
      "execution_count": 30,
      "metadata": {
        "colab": {
          "background_save": true,
          "base_uri": "https://localhost:8080/"
        },
        "id": "0sGPBlYEESJ5",
        "outputId": "2b511da7-9639-4240-f461-ed676074e9fb"
      },
      "outputs": [
        {
          "name": "stderr",
          "output_type": "stream",
          "text": [
            "c:\\Users\\LENOVO\\anaconda3\\Lib\\site-packages\\xgboost\\training.py:183: UserWarning: [22:34:29] WARNING: C:\\actions-runner\\_work\\xgboost\\xgboost\\src\\learner.cc:738: \n",
            "Parameters: { \"use_label_encoder\" } are not used.\n",
            "\n",
            "  bst.update(dtrain, iteration=i, fobj=obj)\n"
          ]
        },
        {
          "name": "stdout",
          "output_type": "stream",
          "text": [
            "\n",
            "=== Classification Report (Training Set) ===\n",
            "              precision    recall  f1-score   support\n",
            "\n",
            "           0       0.97      1.00      0.99      3193\n",
            "           1       0.97      0.79      0.88       423\n",
            "\n",
            "    accuracy                           0.97      3616\n",
            "   macro avg       0.97      0.90      0.93      3616\n",
            "weighted avg       0.97      0.97      0.97      3616\n",
            "\n",
            "\n",
            "=== Classification Report (Test Set) ===\n",
            "              precision    recall  f1-score   support\n",
            "\n",
            "           0       0.93      0.96      0.94       807\n",
            "           1       0.54      0.38      0.44        98\n",
            "\n",
            "    accuracy                           0.90       905\n",
            "   macro avg       0.73      0.67      0.69       905\n",
            "weighted avg       0.88      0.90      0.89       905\n",
            "\n"
          ]
        }
      ],
      "source": [
        "# Inisialisasi model XGBoost\n",
        "xgb_model = XGBClassifier(\n",
        "    random_state=0,\n",
        "    n_estimators=100,       # jumlah pohon (default 100)\n",
        "    learning_rate=0.1,      # laju pembelajaran\n",
        "    max_depth=6,            # kedalaman maksimal tiap pohon\n",
        "    subsample=1.0,          # proporsi sampel untuk tiap pohon\n",
        "    colsample_bytree=1.0,   # proporsi fitur untuk tiap pohon\n",
        "    use_label_encoder=False,\n",
        "    eval_metric='logloss'   # hindari warning pada versi baru XGBoost\n",
        ")\n",
        "\n",
        "# Latih model\n",
        "xgb_model.fit(X_train, y_train)\n",
        "\n",
        "# Prediksi data train dan test\n",
        "y_pred_train = xgb_model.predict(X_train)\n",
        "y_pred_test = xgb_model.predict(X_test)\n",
        "\n",
        "# Tampilkan hasil evaluasi\n",
        "print(\"\\n=== Classification Report (Training Set) ===\")\n",
        "print(classification_report(y_train, y_pred_train))\n",
        "\n",
        "print(\"\\n=== Classification Report (Test Set) ===\")\n",
        "print(classification_report(y_test, y_pred_test))"
      ]
    },
    {
      "cell_type": "markdown",
      "metadata": {
        "id": "xCHXia5bmTqk"
      },
      "source": [
        "# What to do next?\n",
        "*   The F1 Score also significantly different so we need to handle this imbalance dataset. <br>\n",
        "*   The accuracy of training set is 100% and testing set is 88%. This indicates overfitting, therefore we need to apply pre-prunning to the tree. We will tune the parameter by add a max_depth (limiting the depth/ branching of tree) and etc. <br>\n",
        "*   And maybe we need to select and drop some features for the model."
      ]
    },
    {
      "cell_type": "markdown",
      "metadata": {
        "id": "o-LRnCiXDTKe"
      },
      "source": [
        "# Oversampling using SMOTENC"
      ]
    },
    {
      "cell_type": "code",
      "execution_count": 31,
      "metadata": {
        "colab": {
          "background_save": true,
          "base_uri": "https://localhost:8080/"
        },
        "id": "BWj-VnSlQ62o",
        "outputId": "194bbe56-4c8b-4fe7-b0b0-781b06c90c3e"
      },
      "outputs": [
        {
          "data": {
            "text/plain": [
              "((6400, 16), (1600, 16))"
            ]
          },
          "execution_count": 31,
          "metadata": {},
          "output_type": "execute_result"
        }
      ],
      "source": [
        "# using SMOTE-NC for dataset containing numerical and categorical features.\n",
        "\n",
        "from imblearn.over_sampling import SMOTENC\n",
        "\n",
        "# we should define the categorical features first to make oversampling more accurate\n",
        "categorical_features = ['job','marital','education','default','housing','loan','contact','month','poutcome']\n",
        "\n",
        "smotenc = SMOTENC(categorical_features=categorical_features, random_state=42)\n",
        "X, y = smotenc.fit_resample(X, y)\n",
        "\n",
        "# dont forget to always do partitioning AFTER undersampling/oversampling\n",
        "X_train, X_test, y_train, y_test = train_test_split(\n",
        "    X, y, test_size=0.2, random_state=42,\n",
        ")\n",
        "\n",
        "# check the shape of X_train and X_test\n",
        "X_train.shape, X_test.shape"
      ]
    },
    {
      "cell_type": "code",
      "execution_count": 32,
      "metadata": {
        "colab": {
          "background_save": true,
          "base_uri": "https://localhost:8080/",
          "height": 472
        },
        "id": "SNC1YMGk8M_b",
        "outputId": "97b352a5-aff7-4933-815f-9129bb28e513"
      },
      "outputs": [
        {
          "data": {
            "image/png": "[encoded data removed]",
            "text/plain": [
              "<Figure size 640x480 with 1 Axes>"
            ]
          },
          "metadata": {},
          "output_type": "display_data"
        }
      ],
      "source": [
        "# just to visualize the distribution of target class after SMOTENC\n",
        "\n",
        "sns.countplot(x=y)\n",
        "plt.title('Distribution of y after SMOTENC')\n",
        "plt.xlabel('y')\n",
        "plt.ylabel('Count')\n",
        "plt.show()"
      ]
    },
    {
      "cell_type": "code",
      "execution_count": 33,
      "metadata": {
        "colab": {
          "background_save": true,
          "base_uri": "https://localhost:8080/"
        },
        "id": "6dNRwluzTPr9",
        "outputId": "6f14d05a-013a-43a4-e4f6-4e07c7fcd218"
      },
      "outputs": [
        {
          "name": "stdout",
          "output_type": "stream",
          "text": [
            "<class 'pandas.core.frame.DataFrame'>\n",
            "RangeIndex: 4521 entries, 0 to 4520\n",
            "Data columns (total 17 columns):\n",
            " #   Column     Non-Null Count  Dtype  \n",
            "---  ------     --------------  -----  \n",
            " 0   age        4521 non-null   int64  \n",
            " 1   job        4521 non-null   object \n",
            " 2   marital    4521 non-null   object \n",
            " 3   education  4521 non-null   object \n",
            " 4   default    4521 non-null   object \n",
            " 5   balance    4521 non-null   int64  \n",
            " 6   housing    4521 non-null   object \n",
            " 7   loan       4521 non-null   object \n",
            " 8   contact    4521 non-null   object \n",
            " 9   day        4521 non-null   int64  \n",
            " 10  month      4521 non-null   object \n",
            " 11  duration   4521 non-null   int64  \n",
            " 12  campaign   4521 non-null   int64  \n",
            " 13  pdays      4521 non-null   float64\n",
            " 14  previous   4521 non-null   int64  \n",
            " 15  poutcome   4521 non-null   object \n",
            " 16  y          4521 non-null   object \n",
            "dtypes: float64(1), int64(6), object(10)\n",
            "memory usage: 600.6+ KB\n"
          ]
        }
      ],
      "source": [
        "df.info()"
      ]
    },
    {
      "cell_type": "markdown",
      "metadata": {
        "id": "yGn_8RcgGDzN"
      },
      "source": [
        "# Decision Tree Classifier"
      ]
    },
    {
      "cell_type": "code",
      "execution_count": 34,
      "metadata": {
        "colab": {
          "background_save": true,
          "base_uri": "https://localhost:8080/"
        },
        "id": "OdAiXECzAk50",
        "outputId": "37a1a535-ac22-4aa3-db9d-2b14d604f7d0"
      },
      "outputs": [
        {
          "name": "stdout",
          "output_type": "stream",
          "text": [
            "\n",
            "=== Classification Report (Training Set) ===\n",
            "              precision    recall  f1-score   support\n",
            "\n",
            "           0       1.00      1.00      1.00      3199\n",
            "           1       1.00      1.00      1.00      3201\n",
            "\n",
            "    accuracy                           1.00      6400\n",
            "   macro avg       1.00      1.00      1.00      6400\n",
            "weighted avg       1.00      1.00      1.00      6400\n",
            "\n",
            "\n",
            "=== Classification Report (Test Set) ===\n",
            "              precision    recall  f1-score   support\n",
            "\n",
            "           0       0.91      0.87      0.89       801\n",
            "           1       0.88      0.91      0.89       799\n",
            "\n",
            "    accuracy                           0.89      1600\n",
            "   macro avg       0.89      0.89      0.89      1600\n",
            "weighted avg       0.89      0.89      0.89      1600\n",
            "\n"
          ]
        }
      ],
      "source": [
        "tree = DecisionTreeClassifier(random_state=42)\n",
        "tree.fit(X_train, y_train)\n",
        "\n",
        "y_pred_train = tree.predict(X_train)\n",
        "y_pred_test = tree.predict(X_test)\n",
        "\n",
        "print(\"\\n=== Classification Report (Training Set) ===\")\n",
        "print(classification_report(y_train, y_pred_train))\n",
        "\n",
        "print(\"\\n=== Classification Report (Test Set) ===\")\n",
        "print(classification_report(y_test, y_pred_test))"
      ]
    },
    {
      "cell_type": "markdown",
      "metadata": {
        "id": "Gm8lqES_GC1G"
      },
      "source": [
        "# Random Forest Classifier"
      ]
    },
    {
      "cell_type": "code",
      "execution_count": 35,
      "metadata": {
        "colab": {
          "background_save": true,
          "base_uri": "https://localhost:8080/"
        },
        "id": "9Y5WlwUfF5EB",
        "outputId": "7c844128-1524-4c3a-c9ae-4f593c3434ea"
      },
      "outputs": [
        {
          "name": "stdout",
          "output_type": "stream",
          "text": [
            "\n",
            "=== Classification Report (Training Set) ===\n",
            "              precision    recall  f1-score   support\n",
            "\n",
            "           0       1.00      1.00      1.00      3199\n",
            "           1       1.00      1.00      1.00      3201\n",
            "\n",
            "    accuracy                           1.00      6400\n",
            "   macro avg       1.00      1.00      1.00      6400\n",
            "weighted avg       1.00      1.00      1.00      6400\n",
            "\n",
            "\n",
            "=== Classification Report (Test Set) ===\n",
            "              precision    recall  f1-score   support\n",
            "\n",
            "           0       0.94      0.91      0.93       801\n",
            "           1       0.91      0.94      0.93       799\n",
            "\n",
            "    accuracy                           0.93      1600\n",
            "   macro avg       0.93      0.93      0.93      1600\n",
            "weighted avg       0.93      0.93      0.93      1600\n",
            "\n"
          ]
        }
      ],
      "source": [
        "# Inisialisasi model Random Forest\n",
        "forest = RandomForestClassifier(random_state=0)\n",
        "\n",
        "# Latih model dengan data training\n",
        "forest.fit(X_train, y_train)\n",
        "\n",
        "# Prediksi pada data training dan test\n",
        "y_pred_train = forest.predict(X_train)\n",
        "y_pred_test = forest.predict(X_test)\n",
        "\n",
        "# Tampilkan hasil evaluasi\n",
        "print(\"\\n=== Classification Report (Training Set) ===\")\n",
        "print(classification_report(y_train, y_pred_train))\n",
        "\n",
        "print(\"\\n=== Classification Report (Test Set) ===\")\n",
        "print(classification_report(y_test, y_pred_test))"
      ]
    },
    {
      "cell_type": "markdown",
      "metadata": {
        "id": "YOfewDciF9m7"
      },
      "source": [
        "# XGBoost"
      ]
    },
    {
      "cell_type": "code",
      "execution_count": 36,
      "metadata": {
        "colab": {
          "background_save": true,
          "base_uri": "https://localhost:8080/"
        },
        "id": "kzlJlf6jF86m",
        "outputId": "5c6bbc27-5ae4-4875-87a1-349038894fa8"
      },
      "outputs": [
        {
          "name": "stdout",
          "output_type": "stream",
          "text": [
            "\n",
            "=== Classification Report (Training Set) ===\n",
            "              precision    recall  f1-score   support\n",
            "\n",
            "           0       1.00      1.00      1.00      3199\n",
            "           1       1.00      1.00      1.00      3201\n",
            "\n",
            "    accuracy                           1.00      6400\n",
            "   macro avg       1.00      1.00      1.00      6400\n",
            "weighted avg       1.00      1.00      1.00      6400\n",
            "\n",
            "\n",
            "=== Classification Report (Test Set) ===\n",
            "              precision    recall  f1-score   support\n",
            "\n",
            "           0       0.95      0.91      0.93       801\n",
            "           1       0.91      0.95      0.93       799\n",
            "\n",
            "    accuracy                           0.93      1600\n",
            "   macro avg       0.93      0.93      0.93      1600\n",
            "weighted avg       0.93      0.93      0.93      1600\n",
            "\n"
          ]
        },
        {
          "name": "stderr",
          "output_type": "stream",
          "text": [
            "c:\\Users\\LENOVO\\anaconda3\\Lib\\site-packages\\xgboost\\training.py:183: UserWarning: [22:34:31] WARNING: C:\\actions-runner\\_work\\xgboost\\xgboost\\src\\learner.cc:738: \n",
            "Parameters: { \"use_label_encoder\" } are not used.\n",
            "\n",
            "  bst.update(dtrain, iteration=i, fobj=obj)\n"
          ]
        }
      ],
      "source": [
        "from xgboost import XGBClassifier\n",
        "from sklearn.metrics import classification_report\n",
        "\n",
        "# Inisialisasi model XGBoost tanpa hyperparameter tambahan\n",
        "xgb_model = XGBClassifier(random_state=0, use_label_encoder=False, eval_metric='logloss')\n",
        "\n",
        "# Latih model\n",
        "xgb_model.fit(X_train, y_train)\n",
        "\n",
        "# Prediksi data train dan test\n",
        "y_pred_train = xgb_model.predict(X_train)\n",
        "y_pred_test = xgb_model.predict(X_test)\n",
        "\n",
        "# Tampilkan hasil evaluasi\n",
        "print(\"\\n=== Classification Report (Training Set) ===\")\n",
        "print(classification_report(y_train, y_pred_train))\n",
        "\n",
        "print(\"\\n=== Classification Report (Test Set) ===\")\n",
        "print(classification_report(y_test, y_pred_test))\n"
      ]
    },
    {
      "cell_type": "markdown",
      "metadata": {
        "id": "5Norg4Jc9zJ_"
      },
      "source": [
        "Wow the performance is getting higher, but i want to handle overfitting by using KFold Cross Validation"
      ]
    },
    {
      "cell_type": "markdown",
      "metadata": {
        "id": "ByWs2pumnURW"
      },
      "source": [
        "# KFold Cross Validation"
      ]
    },
    {
      "cell_type": "code",
      "execution_count": 37,
      "metadata": {
        "colab": {
          "background_save": true,
          "base_uri": "https://localhost:8080/"
        },
        "id": "WAn59UH1nS7i",
        "outputId": "00861fe7-a769-4871-c4a1-e77bacd4e202"
      },
      "outputs": [
        {
          "name": "stdout",
          "output_type": "stream",
          "text": [
            "Fold:1, Train set: 6400, Test set:1600\n",
            "Fold:2, Train set: 6400, Test set:1600\n",
            "Fold:3, Train set: 6400, Test set:1600\n",
            "Fold:4, Train set: 6400, Test set:1600\n",
            "Fold:5, Train set: 6400, Test set:1600\n"
          ]
        }
      ],
      "source": [
        "# Lets split the data into 5 folds.\n",
        "# We will use this 'kf'(KFold splitting stratergy) object as input to cross_val_score() method\n",
        "# The folds are made by preserving the percentage of samples for each class.\n",
        "from sklearn.model_selection import KFold, cross_val_score\n",
        "kf = KFold(n_splits=5, shuffle=True, random_state=42)\n",
        "\n",
        "cnt = 1\n",
        "# split() method generate indices to split data into training and test set.\n",
        "for train_index, test_index in kf.split(X, y):\n",
        "    print(f'Fold:{cnt}, Train set: {len(train_index)}, Test set:{len(test_index)}')\n",
        "    cnt+=1"
      ]
    },
    {
      "cell_type": "markdown",
      "metadata": {
        "id": "lf83crr1GRjy"
      },
      "source": [
        "# Decision Tree Classifier"
      ]
    },
    {
      "cell_type": "code",
      "execution_count": 38,
      "metadata": {
        "colab": {
          "background_save": true,
          "base_uri": "https://localhost:8080/"
        },
        "id": "HFTd-gYNmOxj",
        "outputId": "775638f0-528f-48a0-ab65-837edd1ff0dd"
      },
      "outputs": [
        {
          "name": "stdout",
          "output_type": "stream",
          "text": [
            "Scores for each fold are: [0.89312039 0.8865598  0.9010989  0.86142322 0.88613861]\n",
            "Average score: 0.89\n"
          ]
        }
      ],
      "source": [
        "from sklearn.tree import DecisionTreeClassifier\n",
        "\n",
        "score = cross_val_score(DecisionTreeClassifier(random_state= 42), X, y, cv= kf, scoring=\"f1\")\n",
        "print(f'Scores for each fold are: {score}')\n",
        "print(f'Average score: {\"{:.2f}\".format(score.mean())}')"
      ]
    },
    {
      "cell_type": "markdown",
      "metadata": {
        "id": "2fHb8VON7LO-"
      },
      "source": [
        "# Random Forest Classifier"
      ]
    },
    {
      "cell_type": "code",
      "execution_count": 39,
      "metadata": {
        "colab": {
          "base_uri": "https://localhost:8080/"
        },
        "id": "968tpkcI7O3X",
        "outputId": "1b2dab65-8b97-4d22-a516-5f2e2928e33d"
      },
      "outputs": [
        {
          "name": "stdout",
          "output_type": "stream",
          "text": [
            "Random Forest F1 Scores per fold: [0.92865929 0.93487523 0.9261745  0.90580162 0.9304878 ]\n",
            "Random Forest Average F1 Score: 0.93\n"
          ]
        }
      ],
      "source": [
        "from sklearn.ensemble import RandomForestClassifier\n",
        "from sklearn.model_selection import cross_val_score\n",
        "\n",
        "rf = RandomForestClassifier(random_state=42)\n",
        "\n",
        "rf_scores = cross_val_score(rf, X, y, cv=kf, scoring=\"f1\")\n",
        "print(f'Random Forest F1 Scores per fold: {rf_scores}')\n",
        "print(f'Random Forest Average F1 Score: {\"{:.2f}\".format(rf_scores.mean())}')"
      ]
    },
    {
      "cell_type": "markdown",
      "metadata": {
        "id": "VJfg8Pah7Qs4"
      },
      "source": [
        "# XGBoost"
      ]
    },
    {
      "cell_type": "code",
      "execution_count": 40,
      "metadata": {
        "colab": {
          "base_uri": "https://localhost:8080/"
        },
        "id": "K0wu3gGu7aLk",
        "outputId": "872df411-311a-44f9-8ea6-924472ec7fd2"
      },
      "outputs": [
        {
          "name": "stderr",
          "output_type": "stream",
          "text": [
            "c:\\Users\\LENOVO\\anaconda3\\Lib\\site-packages\\xgboost\\training.py:183: UserWarning: [22:34:37] WARNING: C:\\actions-runner\\_work\\xgboost\\xgboost\\src\\learner.cc:738: \n",
            "Parameters: { \"use_label_encoder\" } are not used.\n",
            "\n",
            "  bst.update(dtrain, iteration=i, fobj=obj)\n",
            "c:\\Users\\LENOVO\\anaconda3\\Lib\\site-packages\\xgboost\\training.py:183: UserWarning: [22:34:37] WARNING: C:\\actions-runner\\_work\\xgboost\\xgboost\\src\\learner.cc:738: \n",
            "Parameters: { \"use_label_encoder\" } are not used.\n",
            "\n",
            "  bst.update(dtrain, iteration=i, fobj=obj)\n",
            "c:\\Users\\LENOVO\\anaconda3\\Lib\\site-packages\\xgboost\\training.py:183: UserWarning: [22:34:38] WARNING: C:\\actions-runner\\_work\\xgboost\\xgboost\\src\\learner.cc:738: \n",
            "Parameters: { \"use_label_encoder\" } are not used.\n",
            "\n",
            "  bst.update(dtrain, iteration=i, fobj=obj)\n",
            "c:\\Users\\LENOVO\\anaconda3\\Lib\\site-packages\\xgboost\\training.py:183: UserWarning: [22:34:38] WARNING: C:\\actions-runner\\_work\\xgboost\\xgboost\\src\\learner.cc:738: \n",
            "Parameters: { \"use_label_encoder\" } are not used.\n",
            "\n",
            "  bst.update(dtrain, iteration=i, fobj=obj)\n"
          ]
        },
        {
          "name": "stdout",
          "output_type": "stream",
          "text": [
            "XGBoost F1 Scores per fold: [0.93054702 0.9375     0.93603936 0.91170946 0.93746205]\n",
            "XGBoost Average F1 Score: 0.93\n"
          ]
        },
        {
          "name": "stderr",
          "output_type": "stream",
          "text": [
            "c:\\Users\\LENOVO\\anaconda3\\Lib\\site-packages\\xgboost\\training.py:183: UserWarning: [22:34:38] WARNING: C:\\actions-runner\\_work\\xgboost\\xgboost\\src\\learner.cc:738: \n",
            "Parameters: { \"use_label_encoder\" } are not used.\n",
            "\n",
            "  bst.update(dtrain, iteration=i, fobj=obj)\n"
          ]
        }
      ],
      "source": [
        "from xgboost import XGBClassifier\n",
        "\n",
        "xgb = XGBClassifier(random_state=42, use_label_encoder=False, eval_metric='logloss')\n",
        "\n",
        "xgb_scores = cross_val_score(xgb, X, y, cv=kf, scoring=\"f1\")\n",
        "print(f'XGBoost F1 Scores per fold: {xgb_scores}')\n",
        "print(f'XGBoost Average F1 Score: {\"{:.2f}\".format(xgb_scores.mean())}')\n"
      ]
    },
    {
      "cell_type": "markdown",
      "metadata": {
        "id": "4cZnWsV5_yqG"
      },
      "source": [
        "# Feature Importance"
      ]
    },
    {
      "cell_type": "code",
      "execution_count": 41,
      "metadata": {
        "colab": {
          "base_uri": "https://localhost:8080/",
          "height": 872
        },
        "id": "Nt86sfNT1npu",
        "outputId": "3f5c09d6-29eb-40e3-8a1e-a4fa054613af"
      },
      "outputs": [
        {
          "data": {
            "image/png": "[encoded data removed]",
            "text/plain": [
              "<Figure size 1500x1000 with 1 Axes>"
            ]
          },
          "metadata": {},
          "output_type": "display_data"
        }
      ],
      "source": [
        "from sklearn.tree import DecisionTreeClassifier\n",
        "import matplotlib.pyplot as plt\n",
        "tree = DecisionTreeClassifier(\n",
        "    criterion='gini',\n",
        "    max_depth=5,\n",
        "    min_samples_split=10,\n",
        "    min_samples_leaf=5,\n",
        "    random_state=42\n",
        ")\n",
        "tree.fit(X_train, y_train)\n",
        "\n",
        "# Visualization\n",
        "def plot_feature_importances_attrition(model):\n",
        "    plt.figure(figsize=(15,10))\n",
        "    n_features = X_train.shape[1]\n",
        "    plt.barh(range(n_features), model.feature_importances_, align='center')\n",
        "    plt.yticks(np.arange(n_features), X_train.columns)\n",
        "    plt.xlabel(\"Feature importance\")\n",
        "    plt.ylabel(\"Feature\")\n",
        "    plt.ylim(-1, n_features)\n",
        "    plt.title(\"Feature Importances - Decision Tree\")\n",
        "    plt.show()\n",
        "\n",
        "plot_feature_importances_attrition(tree)\n"
      ]
    },
    {
      "cell_type": "code",
      "execution_count": 42,
      "metadata": {
        "colab": {
          "base_uri": "https://localhost:8080/",
          "height": 210
        },
        "id": "ru3Wtt5l2r2U",
        "outputId": "d0dba5fc-b50b-4cc1-a6f3-2d59e52110c3"
      },
      "outputs": [
        {
          "data": {
            "text/plain": [
              "duration    0.553770\n",
              "contact     0.125286\n",
              "poutcome    0.111723\n",
              "loan        0.057227\n",
              "dtype: float64"
            ]
          },
          "execution_count": 42,
          "metadata": {},
          "output_type": "execute_result"
        }
      ],
      "source": [
        "# Show feature importances greater than 0.05\n",
        "feature_importances = pd.Series(tree.feature_importances_, index=X_train.columns)\n",
        "important_features = feature_importances[feature_importances > 0.05].sort_values(ascending=False)\n",
        "important_features"
      ]
    },
    {
      "cell_type": "code",
      "execution_count": 43,
      "metadata": {
        "id": "hS980snG4IaW"
      },
      "outputs": [],
      "source": [
        "# using only important features for the prediction\n",
        "important_features = [\n",
        "    'duration',\n",
        "    'contact',\n",
        "    'poutcome',\n",
        "    'loan'\n",
        "]\n",
        "X_importance = df_encoded[important_features] #input\n",
        "y_importance = df_encoded[\"y\"] #target"
      ]
    },
    {
      "cell_type": "code",
      "execution_count": 44,
      "metadata": {
        "colab": {
          "base_uri": "https://localhost:8080/",
          "height": 865
        },
        "id": "KGYFoN5k4mUQ",
        "outputId": "c83f8e8d-27d2-42e8-c0d9-56b48626e15f"
      },
      "outputs": [
        {
          "data": {
            "text/html": [
              "<div>\n",
              "<style scoped>\n",
              "    .dataframe tbody tr th:only-of-type {\n",
              "        vertical-align: middle;\n",
              "    }\n",
              "\n",
              "    .dataframe tbody tr th {\n",
              "        vertical-align: top;\n",
              "    }\n",
              "\n",
              "    .dataframe thead th {\n",
              "        text-align: right;\n",
              "    }\n",
              "</style>\n",
              "<table border=\"1\" class=\"dataframe\">\n",
              "  <thead>\n",
              "    <tr style=\"text-align: right;\">\n",
              "      <th></th>\n",
              "      <th>duration</th>\n",
              "      <th>contact</th>\n",
              "      <th>poutcome</th>\n",
              "      <th>loan</th>\n",
              "    </tr>\n",
              "  </thead>\n",
              "  <tbody>\n",
              "    <tr>\n",
              "      <th>0</th>\n",
              "      <td>79</td>\n",
              "      <td>0</td>\n",
              "      <td>0</td>\n",
              "      <td>0</td>\n",
              "    </tr>\n",
              "    <tr>\n",
              "      <th>1</th>\n",
              "      <td>220</td>\n",
              "      <td>0</td>\n",
              "      <td>1</td>\n",
              "      <td>1</td>\n",
              "    </tr>\n",
              "    <tr>\n",
              "      <th>2</th>\n",
              "      <td>185</td>\n",
              "      <td>0</td>\n",
              "      <td>1</td>\n",
              "      <td>0</td>\n",
              "    </tr>\n",
              "    <tr>\n",
              "      <th>3</th>\n",
              "      <td>199</td>\n",
              "      <td>2</td>\n",
              "      <td>0</td>\n",
              "      <td>1</td>\n",
              "    </tr>\n",
              "    <tr>\n",
              "      <th>4</th>\n",
              "      <td>226</td>\n",
              "      <td>2</td>\n",
              "      <td>0</td>\n",
              "      <td>0</td>\n",
              "    </tr>\n",
              "    <tr>\n",
              "      <th>...</th>\n",
              "      <td>...</td>\n",
              "      <td>...</td>\n",
              "      <td>...</td>\n",
              "      <td>...</td>\n",
              "    </tr>\n",
              "    <tr>\n",
              "      <th>4516</th>\n",
              "      <td>329</td>\n",
              "      <td>0</td>\n",
              "      <td>0</td>\n",
              "      <td>0</td>\n",
              "    </tr>\n",
              "    <tr>\n",
              "      <th>4517</th>\n",
              "      <td>153</td>\n",
              "      <td>2</td>\n",
              "      <td>0</td>\n",
              "      <td>1</td>\n",
              "    </tr>\n",
              "    <tr>\n",
              "      <th>4518</th>\n",
              "      <td>151</td>\n",
              "      <td>0</td>\n",
              "      <td>0</td>\n",
              "      <td>0</td>\n",
              "    </tr>\n",
              "    <tr>\n",
              "      <th>4519</th>\n",
              "      <td>129</td>\n",
              "      <td>0</td>\n",
              "      <td>2</td>\n",
              "      <td>0</td>\n",
              "    </tr>\n",
              "    <tr>\n",
              "      <th>4520</th>\n",
              "      <td>345</td>\n",
              "      <td>0</td>\n",
              "      <td>2</td>\n",
              "      <td>1</td>\n",
              "    </tr>\n",
              "  </tbody>\n",
              "</table>\n",
              "<p>4521 rows × 4 columns</p>\n",
              "</div>"
            ],
            "text/plain": [
              "      duration  contact  poutcome  loan\n",
              "0           79        0         0     0\n",
              "1          220        0         1     1\n",
              "2          185        0         1     0\n",
              "3          199        2         0     1\n",
              "4          226        2         0     0\n",
              "...        ...      ...       ...   ...\n",
              "4516       329        0         0     0\n",
              "4517       153        2         0     1\n",
              "4518       151        0         0     0\n",
              "4519       129        0         2     0\n",
              "4520       345        0         2     1\n",
              "\n",
              "[4521 rows x 4 columns]"
            ]
          },
          "metadata": {},
          "output_type": "display_data"
        },
        {
          "data": {
            "text/plain": [
              "0       0\n",
              "1       0\n",
              "2       0\n",
              "3       0\n",
              "4       0\n",
              "       ..\n",
              "4516    0\n",
              "4517    0\n",
              "4518    0\n",
              "4519    0\n",
              "4520    0\n",
              "Name: y, Length: 4521, dtype: int64"
            ]
          },
          "metadata": {},
          "output_type": "display_data"
        }
      ],
      "source": [
        "display(X_importance)\n",
        "display(y_importance)"
      ]
    },
    {
      "cell_type": "code",
      "execution_count": 45,
      "metadata": {
        "colab": {
          "base_uri": "https://localhost:8080/"
        },
        "id": "c_28MCsSA4HV",
        "outputId": "e77d2379-1a20-442c-d21e-f9987d92818d"
      },
      "outputs": [
        {
          "data": {
            "text/plain": [
              "((6400, 4), (1600, 4))"
            ]
          },
          "execution_count": 45,
          "metadata": {},
          "output_type": "execute_result"
        }
      ],
      "source": [
        "from imblearn.over_sampling import SMOTE\n",
        "\n",
        "smote = SMOTE(random_state=42)\n",
        "X_importance, y_importance = smote.fit_resample(X_importance, y_importance)\n",
        "\n",
        "X_train, X_test, y_train, y_test = train_test_split(X_importance, y_importance, test_size=0.2, random_state=0)\n",
        "\n",
        "# check the shape of X_train and X_test\n",
        "X_train.shape, X_test.shape"
      ]
    },
    {
      "cell_type": "code",
      "execution_count": 46,
      "metadata": {
        "id": "ElRobq0FBaOq"
      },
      "outputs": [],
      "source": [
        "X_train_importance, X_test_importance, y_train_importance, y_test_importance = train_test_split(X_importance, y_importance, test_size=0.2, random_state=50)"
      ]
    },
    {
      "cell_type": "markdown",
      "metadata": {
        "id": "WLNqkAL9BeZS"
      },
      "source": [
        "# Decision Tree Classifier"
      ]
    },
    {
      "cell_type": "code",
      "execution_count": 47,
      "metadata": {
        "colab": {
          "base_uri": "https://localhost:8080/"
        },
        "id": "d9PB6vhQA5Ai",
        "outputId": "801a42b6-d824-4baa-90d8-f7aa4085bc19"
      },
      "outputs": [
        {
          "name": "stdout",
          "output_type": "stream",
          "text": [
            "\n",
            "=== Classification Report (Training Set) ===\n",
            "              precision    recall  f1-score   support\n",
            "\n",
            "           0       0.91      0.91      0.91      3238\n",
            "           1       0.91      0.91      0.91      3162\n",
            "\n",
            "    accuracy                           0.91      6400\n",
            "   macro avg       0.91      0.91      0.91      6400\n",
            "weighted avg       0.91      0.91      0.91      6400\n",
            "\n",
            "\n",
            "=== Classification Report (Test Set) ===\n",
            "              precision    recall  f1-score   support\n",
            "\n",
            "           0       0.81      0.79      0.80       762\n",
            "           1       0.81      0.83      0.82       838\n",
            "\n",
            "    accuracy                           0.81      1600\n",
            "   macro avg       0.81      0.81      0.81      1600\n",
            "weighted avg       0.81      0.81      0.81      1600\n",
            "\n"
          ]
        }
      ],
      "source": [
        "importance_tree = DecisionTreeClassifier(random_state=50)\n",
        "importance_tree.fit(X_train_importance, y_train_importance)\n",
        "\n",
        "y_pred_train_importance = importance_tree.predict(X_train_importance)\n",
        "y_pred_test_importance = importance_tree.predict(X_test_importance)\n",
        "\n",
        "print(\"\\n=== Classification Report (Training Set) ===\")\n",
        "print(classification_report(y_train_importance, y_pred_train_importance))\n",
        "\n",
        "print(\"\\n=== Classification Report (Test Set) ===\")\n",
        "print(classification_report(y_test_importance, y_pred_test_importance))"
      ]
    },
    {
      "cell_type": "markdown",
      "metadata": {
        "id": "SooNq4dSBmju"
      },
      "source": [
        "# Random Forest Classifier"
      ]
    },
    {
      "cell_type": "code",
      "execution_count": 48,
      "metadata": {
        "colab": {
          "base_uri": "https://localhost:8080/"
        },
        "id": "9mEtCCF2Bqqd",
        "outputId": "4d01a861-ca39-495c-c6f4-8f75c052abfa"
      },
      "outputs": [
        {
          "name": "stdout",
          "output_type": "stream",
          "text": [
            "\n",
            "=== Classification Report (Training Set) ===\n",
            "              precision    recall  f1-score   support\n",
            "\n",
            "           0       0.93      0.89      0.91      3238\n",
            "           1       0.89      0.93      0.91      3162\n",
            "\n",
            "    accuracy                           0.91      6400\n",
            "   macro avg       0.91      0.91      0.91      6400\n",
            "weighted avg       0.91      0.91      0.91      6400\n",
            "\n",
            "\n",
            "=== Classification Report (Test Set) ===\n",
            "              precision    recall  f1-score   support\n",
            "\n",
            "           0       0.84      0.78      0.81       762\n",
            "           1       0.81      0.86      0.84       838\n",
            "\n",
            "    accuracy                           0.82      1600\n",
            "   macro avg       0.83      0.82      0.82      1600\n",
            "weighted avg       0.82      0.82      0.82      1600\n",
            "\n"
          ]
        }
      ],
      "source": [
        "importance_forest = RandomForestClassifier(random_state=50)\n",
        "importance_forest.fit(X_train_importance, y_train_importance)\n",
        "\n",
        "# Prediksi\n",
        "y_pred_train_forest = importance_forest.predict(X_train_importance)\n",
        "y_pred_test_forest = importance_forest.predict(X_test_importance)\n",
        "\n",
        "# Evaluasi\n",
        "print(\"\\n=== Classification Report (Training Set) ===\")\n",
        "print(classification_report(y_train_importance, y_pred_train_forest))\n",
        "\n",
        "print(\"\\n=== Classification Report (Test Set) ===\")\n",
        "print(classification_report(y_test_importance, y_pred_test_forest))"
      ]
    },
    {
      "cell_type": "markdown",
      "metadata": {
        "id": "JGvE0i0pBov3"
      },
      "source": [
        "# XGBoost"
      ]
    },
    {
      "cell_type": "code",
      "execution_count": 49,
      "metadata": {
        "colab": {
          "base_uri": "https://localhost:8080/"
        },
        "id": "Mm8Z8B-ACYFS",
        "outputId": "7c4f5da8-9dd4-4908-8850-3de6f1915911"
      },
      "outputs": [
        {
          "name": "stdout",
          "output_type": "stream",
          "text": [
            "\n",
            "=== Classification Report (Training Set) ===\n",
            "              precision    recall  f1-score   support\n",
            "\n",
            "           0       0.89      0.82      0.86      3238\n",
            "           1       0.83      0.90      0.86      3162\n",
            "\n",
            "    accuracy                           0.86      6400\n",
            "   macro avg       0.86      0.86      0.86      6400\n",
            "weighted avg       0.86      0.86      0.86      6400\n",
            "\n",
            "\n",
            "=== Classification Report (Test Set) ===\n",
            "              precision    recall  f1-score   support\n",
            "\n",
            "           0       0.85      0.79      0.82       762\n",
            "           1       0.82      0.87      0.85       838\n",
            "\n",
            "    accuracy                           0.83      1600\n",
            "   macro avg       0.84      0.83      0.83      1600\n",
            "weighted avg       0.83      0.83      0.83      1600\n",
            "\n"
          ]
        },
        {
          "name": "stderr",
          "output_type": "stream",
          "text": [
            "c:\\Users\\LENOVO\\anaconda3\\Lib\\site-packages\\xgboost\\training.py:183: UserWarning: [22:34:39] WARNING: C:\\actions-runner\\_work\\xgboost\\xgboost\\src\\learner.cc:738: \n",
            "Parameters: { \"use_label_encoder\" } are not used.\n",
            "\n",
            "  bst.update(dtrain, iteration=i, fobj=obj)\n"
          ]
        }
      ],
      "source": [
        "importance_xgb = XGBClassifier(random_state=50, use_label_encoder=False, eval_metric='logloss')\n",
        "importance_xgb.fit(X_train_importance, y_train_importance)\n",
        "\n",
        "# Prediksi\n",
        "y_pred_train_xgb = importance_xgb.predict(X_train_importance)\n",
        "y_pred_test_xgb = importance_xgb.predict(X_test_importance)\n",
        "\n",
        "# Evaluasi\n",
        "print(\"\\n=== Classification Report (Training Set) ===\")\n",
        "print(classification_report(y_train_importance, y_pred_train_xgb))\n",
        "\n",
        "print(\"\\n=== Classification Report (Test Set) ===\")\n",
        "print(classification_report(y_test_importance, y_pred_test_xgb))"
      ]
    },
    {
      "cell_type": "markdown",
      "metadata": {
        "id": "puF15GrHA5F0"
      },
      "source": [
        "i still want to increase the score since this way is seems worse than before, so i will try to select predictor or X features based on the correlation"
      ]
    },
    {
      "cell_type": "markdown",
      "metadata": {
        "id": "uGdwENDNBNgl"
      },
      "source": [
        "# Selecting Predictors/Features Based on Correlation"
      ]
    },
    {
      "cell_type": "code",
      "execution_count": 50,
      "metadata": {
        "colab": {
          "base_uri": "https://localhost:8080/",
          "height": 817
        },
        "id": "p5QA-Mtx18OI",
        "outputId": "6ce58c07-e200-4c62-a689-999687c1b3c6"
      },
      "outputs": [
        {
          "data": {
            "image/png": "[encoded data removed]",
            "text/plain": [
              "<Figure size 3000x1500 with 2 Axes>"
            ]
          },
          "metadata": {},
          "output_type": "display_data"
        }
      ],
      "source": [
        "# show heatmap\n",
        "plt.figure(figsize=(30, 15))\n",
        "sns.heatmap(df_encoded.corr(), annot=True, cmap='coolwarm')\n",
        "plt.title('Correlation Matrix')\n",
        "plt.show()"
      ]
    },
    {
      "cell_type": "code",
      "execution_count": 51,
      "metadata": {
        "colab": {
          "base_uri": "https://localhost:8080/"
        },
        "id": "-hqNGXslW-xN",
        "outputId": "502e49b6-a9fd-4c39-8670-0256dc17f4e6"
      },
      "outputs": [
        {
          "name": "stdout",
          "output_type": "stream",
          "text": [
            "--- Pasangan Fitur dengan Korelasi > 0.5 ---\n",
            "pdays     poutcome    0.711144\n",
            "previous  poutcome    0.617602\n",
            "pdays     previous    0.577562\n",
            "dtype: float64\n"
          ]
        }
      ],
      "source": [
        "# mencari korelasi yang tinggi\n",
        "corr_matrix = df_encoded.corr().abs()\n",
        "\n",
        "# \"Buka\" matriks agar tidak ada pasangan duplikat (A-B & B-A) dan hapus korelasi diagonal (selalu 1)\n",
        "upper_tri = corr_matrix.where(np.triu(np.ones(corr_matrix.shape), k=1).astype(bool))\n",
        "sorted_corr = upper_tri.stack().sort_values(ascending=False)\n",
        "\n",
        "# Tentukan ambang batas korelasi yang Anda anggap tinggi\n",
        "threshold = 0.5\n",
        "\n",
        "# Ambil semua pasangan yang korelasinya di atas ambang batas\n",
        "high_corr_pairs = sorted_corr[sorted_corr > threshold]\n",
        "\n",
        "print(f\"--- Pasangan Fitur dengan Korelasi > {threshold} ---\")\n",
        "if high_corr_pairs.empty:\n",
        "    print(\"Tidak ditemukan pasangan fitur dengan korelasi di atas ambang batas.\")\n",
        "else:\n",
        "    print(high_corr_pairs)"
      ]
    },
    {
      "cell_type": "code",
      "execution_count": 52,
      "metadata": {
        "id": "6dDASscE32GW"
      },
      "outputs": [],
      "source": [
        "heatmap_features = [\n",
        "    'pdays',\n",
        "    'previous',\n",
        "    'poutcome'\n",
        "]\n",
        "X_heatmap = df_encoded[heatmap_features] #input\n",
        "y_heatmap = df_encoded['y'] #target"
      ]
    },
    {
      "cell_type": "code",
      "execution_count": 53,
      "metadata": {
        "id": "ELbYFDf2vMAy"
      },
      "outputs": [],
      "source": [
        "from imblearn.over_sampling import SMOTENC\n",
        "from sklearn.model_selection import train_test_split\n",
        "\n",
        "# Definisikan fitur kategorikal sesuai kolom yang ada di X_heatmap\n",
        "categorical_features_in_heatmap = ['poutcome']\n",
        "\n",
        "# Pastikan hanya ambil kolom yang benar-benar ada di X_heatmap\n",
        "categorical_indices = [\n",
        "    X_heatmap.columns.get_loc(col)\n",
        "    for col in categorical_features_in_heatmap\n",
        "    if col in X_heatmap.columns\n",
        "]\n",
        "\n",
        "# Gunakan SMOTENC untuk oversampling\n",
        "smotenc = SMOTENC(categorical_features=categorical_indices, random_state=42)\n",
        "X_heatmap_res, y_heatmap_res = smotenc.fit_resample(X_heatmap, y_heatmap)"
      ]
    },
    {
      "cell_type": "code",
      "execution_count": 54,
      "metadata": {
        "colab": {
          "base_uri": "https://localhost:8080/"
        },
        "id": "boZsplq_4LfG",
        "outputId": "d3dc4774-8990-46cc-a8a8-725a24237112"
      },
      "outputs": [
        {
          "data": {
            "text/plain": [
              "((6400, 3), (1600, 3))"
            ]
          },
          "execution_count": 54,
          "metadata": {},
          "output_type": "execute_result"
        }
      ],
      "source": [
        "# Split dataset hasil SMOTENC\n",
        "X_train, X_test, y_train, y_test = train_test_split(\n",
        "    X_heatmap_res, y_heatmap_res, test_size=0.2, random_state=17\n",
        ")\n",
        "\n",
        "# check the shape of X_train and X_test\n",
        "X_train.shape, X_test.shape"
      ]
    },
    {
      "cell_type": "markdown",
      "metadata": {
        "id": "Oe5F19vcFmV9"
      },
      "source": [
        "# Decision Tree Classifier"
      ]
    },
    {
      "cell_type": "code",
      "execution_count": 55,
      "metadata": {
        "colab": {
          "base_uri": "https://localhost:8080/"
        },
        "id": "p7QnnY1PFF41",
        "outputId": "9731a1c3-48f2-4f8d-984c-38b7f5554608"
      },
      "outputs": [
        {
          "name": "stdout",
          "output_type": "stream",
          "text": [
            "\n",
            "=== Classification Report (Training Set) ===\n",
            "              precision    recall  f1-score   support\n",
            "\n",
            "           0       0.60      0.99      0.75      3186\n",
            "           1       0.98      0.34      0.51      3214\n",
            "\n",
            "    accuracy                           0.67      6400\n",
            "   macro avg       0.79      0.67      0.63      6400\n",
            "weighted avg       0.79      0.67      0.63      6400\n",
            "\n",
            "\n",
            "=== Classification Report (Test Set) ===\n",
            "              precision    recall  f1-score   support\n",
            "\n",
            "           0       0.58      0.94      0.72       814\n",
            "           1       0.82      0.29      0.43       786\n",
            "\n",
            "    accuracy                           0.62      1600\n",
            "   macro avg       0.70      0.61      0.57      1600\n",
            "weighted avg       0.70      0.62      0.57      1600\n",
            "\n"
          ]
        }
      ],
      "source": [
        "# i build a model based on best feature by correlation\n",
        "heatmap_tree = DecisionTreeClassifier(random_state=42)\n",
        "heatmap_tree.fit(X_train, y_train)\n",
        "\n",
        "y_pred_train = heatmap_tree.predict(X_train)\n",
        "y_pred_test = heatmap_tree.predict(X_test)\n",
        "\n",
        "print(\"\\n=== Classification Report (Training Set) ===\")\n",
        "print(classification_report(y_train, y_pred_train))\n",
        "\n",
        "print(\"\\n=== Classification Report (Test Set) ===\")\n",
        "print(classification_report(y_test, y_pred_test))"
      ]
    },
    {
      "cell_type": "markdown",
      "metadata": {
        "id": "t_5Q20jxFpqF"
      },
      "source": [
        "# Random Forest Classifier"
      ]
    },
    {
      "cell_type": "code",
      "execution_count": 56,
      "metadata": {
        "colab": {
          "base_uri": "https://localhost:8080/"
        },
        "id": "0jG53pknFmHP",
        "outputId": "ebae63aa-1537-4f33-a56d-b231fc8fc897"
      },
      "outputs": [
        {
          "name": "stdout",
          "output_type": "stream",
          "text": [
            "\n",
            "=== Classification Report (Training Set - Random Forest) ===\n",
            "              precision    recall  f1-score   support\n",
            "\n",
            "           0       0.60      0.98      0.75      3186\n",
            "           1       0.95      0.35      0.52      3214\n",
            "\n",
            "    accuracy                           0.67      6400\n",
            "   macro avg       0.78      0.67      0.63      6400\n",
            "weighted avg       0.78      0.67      0.63      6400\n",
            "\n",
            "\n",
            "=== Classification Report (Test Set - Random Forest) ===\n",
            "              precision    recall  f1-score   support\n",
            "\n",
            "           0       0.59      0.94      0.72       814\n",
            "           1       0.83      0.32      0.46       786\n",
            "\n",
            "    accuracy                           0.63      1600\n",
            "   macro avg       0.71      0.63      0.59      1600\n",
            "weighted avg       0.71      0.63      0.59      1600\n",
            "\n"
          ]
        }
      ],
      "source": [
        "heatmap_forest = RandomForestClassifier(random_state=42)\n",
        "heatmap_forest.fit(X_train, y_train)\n",
        "\n",
        "# Prediksi\n",
        "y_pred_train_forest = heatmap_forest.predict(X_train)\n",
        "y_pred_test_forest = heatmap_forest.predict(X_test)\n",
        "\n",
        "# Evaluasi\n",
        "print(\"\\n=== Classification Report (Training Set - Random Forest) ===\")\n",
        "print(classification_report(y_train, y_pred_train_forest))\n",
        "\n",
        "print(\"\\n=== Classification Report (Test Set - Random Forest) ===\")\n",
        "print(classification_report(y_test, y_pred_test_forest))"
      ]
    },
    {
      "cell_type": "markdown",
      "metadata": {
        "id": "k1gMWbjzFrVT"
      },
      "source": [
        "# XGBoost"
      ]
    },
    {
      "cell_type": "code",
      "execution_count": 57,
      "metadata": {
        "colab": {
          "base_uri": "https://localhost:8080/"
        },
        "id": "3Kt7Rrb8Ftb1",
        "outputId": "5ba81785-0576-4fab-9245-cfa0a069bf44"
      },
      "outputs": [
        {
          "name": "stdout",
          "output_type": "stream",
          "text": [
            "\n",
            "=== Classification Report (Training Set - XGBoost) ===\n",
            "              precision    recall  f1-score   support\n",
            "\n",
            "           0       0.59      0.97      0.74      3186\n",
            "           1       0.92      0.35      0.50      3214\n",
            "\n",
            "    accuracy                           0.66      6400\n",
            "   macro avg       0.76      0.66      0.62      6400\n",
            "weighted avg       0.76      0.66      0.62      6400\n",
            "\n",
            "\n",
            "=== Classification Report (Test Set - XGBoost) ===\n",
            "              precision    recall  f1-score   support\n",
            "\n",
            "           0       0.58      0.93      0.72       814\n",
            "           1       0.82      0.31      0.45       786\n",
            "\n",
            "    accuracy                           0.63      1600\n",
            "   macro avg       0.70      0.62      0.59      1600\n",
            "weighted avg       0.70      0.63      0.59      1600\n",
            "\n"
          ]
        },
        {
          "name": "stderr",
          "output_type": "stream",
          "text": [
            "c:\\Users\\LENOVO\\anaconda3\\Lib\\site-packages\\xgboost\\training.py:183: UserWarning: [22:34:41] WARNING: C:\\actions-runner\\_work\\xgboost\\xgboost\\src\\learner.cc:738: \n",
            "Parameters: { \"use_label_encoder\" } are not used.\n",
            "\n",
            "  bst.update(dtrain, iteration=i, fobj=obj)\n"
          ]
        }
      ],
      "source": [
        "heatmap_xgb = XGBClassifier(random_state=42, use_label_encoder=False, eval_metric='logloss')\n",
        "heatmap_xgb.fit(X_train, y_train)\n",
        "\n",
        "# Prediksi\n",
        "y_pred_train_xgb = heatmap_xgb.predict(X_train)\n",
        "y_pred_test_xgb = heatmap_xgb.predict(X_test)\n",
        "\n",
        "# Evaluasi\n",
        "print(\"\\n=== Classification Report (Training Set - XGBoost) ===\")\n",
        "print(classification_report(y_train, y_pred_train_xgb))\n",
        "\n",
        "print(\"\\n=== Classification Report (Test Set - XGBoost) ===\")\n",
        "print(classification_report(y_test, y_pred_test_xgb))"
      ]
    },
    {
      "cell_type": "markdown",
      "metadata": {
        "id": "Vr7LDZWpCcSt"
      },
      "source": [
        "# Hyperparameter Tuning using Grid Search"
      ]
    },
    {
      "cell_type": "markdown",
      "metadata": {
        "id": "04HbcOyeKlG5"
      },
      "source": [
        "# Decision Tree Classifier"
      ]
    },
    {
      "cell_type": "code",
      "execution_count": 58,
      "metadata": {
        "colab": {
          "base_uri": "https://localhost:8080/"
        },
        "id": "ujLnGR4g1XXO",
        "outputId": "11484f0f-1325-4e26-fb1e-298266fe01bf"
      },
      "outputs": [
        {
          "name": "stdout",
          "output_type": "stream",
          "text": [
            "Best parameters: {'criterion': 'gini', 'max_depth': 15, 'min_samples_leaf': 1, 'min_samples_split': 2}\n",
            "Best CV F1 score: 0.8764861827494668\n",
            "\n",
            "=== Classification Report (Training Set) ===\n",
            "              precision    recall  f1-score   support\n",
            "\n",
            "           0       0.99      0.98      0.98      3199\n",
            "           1       0.98      0.99      0.98      3201\n",
            "\n",
            "    accuracy                           0.98      6400\n",
            "   macro avg       0.98      0.98      0.98      6400\n",
            "weighted avg       0.98      0.98      0.98      6400\n",
            "\n",
            "\n",
            "=== Classification Report (Test Set) ===\n",
            "              precision    recall  f1-score   support\n",
            "\n",
            "           0       0.91      0.86      0.88       801\n",
            "           1       0.87      0.91      0.89       799\n",
            "\n",
            "    accuracy                           0.89      1600\n",
            "   macro avg       0.89      0.89      0.89      1600\n",
            "weighted avg       0.89      0.89      0.89      1600\n",
            "\n"
          ]
        }
      ],
      "source": [
        "from sklearn.tree import DecisionTreeClassifier\n",
        "from sklearn.model_selection import GridSearchCV, train_test_split\n",
        "from sklearn.metrics import classification_report\n",
        "\n",
        "# split dulu (data sudah di-oversample dengan SMOTENC)\n",
        "X_train, X_test, y_train, y_test = train_test_split(\n",
        "    X, y, test_size=0.2, random_state=42\n",
        ")\n",
        "\n",
        "# parameter grid untuk tuning\n",
        "param_grid = {\n",
        "    'criterion': ['gini', 'entropy'],\n",
        "    'max_depth': [5, 10, 15, 20, None],\n",
        "    'min_samples_split': [2, 5, 10],\n",
        "    'min_samples_leaf': [1, 2, 4]\n",
        "}\n",
        "\n",
        "# buat DecisionTree\n",
        "tree = DecisionTreeClassifier(random_state=42)\n",
        "\n",
        "# GridSearch dengan 5-fold CV\n",
        "grid_search = GridSearchCV(\n",
        "    estimator=tree,\n",
        "    param_grid=param_grid,\n",
        "    scoring='f1',\n",
        "    cv=5,\n",
        "    n_jobs=-1\n",
        ")\n",
        "\n",
        "# fitting\n",
        "grid_search.fit(X_train, y_train)\n",
        "\n",
        "# best model\n",
        "best_tree = grid_search.best_estimator_\n",
        "\n",
        "# prediksi\n",
        "y_pred_train = best_tree.predict(X_train)\n",
        "y_pred_test = best_tree.predict(X_test)\n",
        "\n",
        "# laporan performa\n",
        "print(\"Best parameters:\", grid_search.best_params_)\n",
        "print(\"Best CV F1 score:\", grid_search.best_score_)\n",
        "\n",
        "print(\"\\n=== Classification Report (Training Set) ===\")\n",
        "print(classification_report(y_train, y_pred_train))\n",
        "\n",
        "print(\"\\n=== Classification Report (Test Set) ===\")\n",
        "print(classification_report(y_test, y_pred_test))\n"
      ]
    },
    {
      "cell_type": "markdown",
      "metadata": {
        "id": "eXRoUjrJKnR_"
      },
      "source": [
        "# Random Forest Classifier"
      ]
    },
    {
      "cell_type": "code",
      "execution_count": 59,
      "metadata": {
        "colab": {
          "background_save": true,
          "base_uri": "https://localhost:8080/"
        },
        "id": "TZnOByWfHJPM",
        "outputId": "aee7fb2d-e12a-4af7-f12e-0ac9b61eec43"
      },
      "outputs": [
        {
          "name": "stderr",
          "output_type": "stream",
          "text": [
            "c:\\Users\\LENOVO\\anaconda3\\Lib\\site-packages\\sklearn\\model_selection\\_validation.py:540: FitFailedWarning: \n",
            "360 fits failed out of a total of 1080.\n",
            "The score on these train-test partitions for these parameters will be set to nan.\n",
            "If these failures are not expected, you can try to debug them by setting error_score='raise'.\n",
            "\n",
            "Below are more details about the failures:\n",
            "--------------------------------------------------------------------------------\n",
            "223 fits failed with the following error:\n",
            "Traceback (most recent call last):\n",
            "  File \"c:\\Users\\LENOVO\\anaconda3\\Lib\\site-packages\\sklearn\\model_selection\\_validation.py\", line 888, in _fit_and_score\n",
            "    estimator.fit(X_train, y_train, **fit_params)\n",
            "  File \"c:\\Users\\LENOVO\\anaconda3\\Lib\\site-packages\\sklearn\\base.py\", line 1466, in wrapper\n",
            "    estimator._validate_params()\n",
            "  File \"c:\\Users\\LENOVO\\anaconda3\\Lib\\site-packages\\sklearn\\base.py\", line 666, in _validate_params\n",
            "    validate_parameter_constraints(\n",
            "  File \"c:\\Users\\LENOVO\\anaconda3\\Lib\\site-packages\\sklearn\\utils\\_param_validation.py\", line 95, in validate_parameter_constraints\n",
            "    raise InvalidParameterError(\n",
            "sklearn.utils._param_validation.InvalidParameterError: The 'max_features' parameter of RandomForestClassifier must be an int in the range [1, inf), a float in the range (0.0, 1.0], a str among {'log2', 'sqrt'} or None. Got 'auto' instead.\n",
            "\n",
            "--------------------------------------------------------------------------------\n",
            "137 fits failed with the following error:\n",
            "Traceback (most recent call last):\n",
            "  File \"c:\\Users\\LENOVO\\anaconda3\\Lib\\site-packages\\sklearn\\model_selection\\_validation.py\", line 888, in _fit_and_score\n",
            "    estimator.fit(X_train, y_train, **fit_params)\n",
            "  File \"c:\\Users\\LENOVO\\anaconda3\\Lib\\site-packages\\sklearn\\base.py\", line 1466, in wrapper\n",
            "    estimator._validate_params()\n",
            "  File \"c:\\Users\\LENOVO\\anaconda3\\Lib\\site-packages\\sklearn\\base.py\", line 666, in _validate_params\n",
            "    validate_parameter_constraints(\n",
            "  File \"c:\\Users\\LENOVO\\anaconda3\\Lib\\site-packages\\sklearn\\utils\\_param_validation.py\", line 95, in validate_parameter_constraints\n",
            "    raise InvalidParameterError(\n",
            "sklearn.utils._param_validation.InvalidParameterError: The 'max_features' parameter of RandomForestClassifier must be an int in the range [1, inf), a float in the range (0.0, 1.0], a str among {'sqrt', 'log2'} or None. Got 'auto' instead.\n",
            "\n",
            "  warnings.warn(some_fits_failed_message, FitFailedWarning)\n",
            "c:\\Users\\LENOVO\\anaconda3\\Lib\\site-packages\\sklearn\\model_selection\\_search.py:1102: UserWarning: One or more of the test scores are non-finite: [       nan        nan        nan        nan        nan        nan\n",
            "        nan        nan        nan        nan        nan        nan\n",
            "        nan        nan        nan        nan        nan        nan\n",
            " 0.85361485 0.85434039 0.85265007 0.85365281 0.85273299 0.85395521\n",
            " 0.85270888 0.85404003 0.85275919 0.854772   0.85244974 0.85297348\n",
            " 0.85334346 0.85244009 0.85334346 0.85244009 0.852992   0.85287627\n",
            " 0.85361485 0.85434039 0.85265007 0.85365281 0.85273299 0.85395521\n",
            " 0.85270888 0.85404003 0.85275919 0.854772   0.85244974 0.85297348\n",
            " 0.85334346 0.85244009 0.85334346 0.85244009 0.852992   0.85287627\n",
            "        nan        nan        nan        nan        nan        nan\n",
            "        nan        nan        nan        nan        nan        nan\n",
            "        nan        nan        nan        nan        nan        nan\n",
            " 0.90565072 0.9054431  0.90502905 0.90593918 0.90167066 0.9018566\n",
            " 0.90466859 0.90435563 0.90283985 0.90475303 0.90132393 0.90178157\n",
            " 0.90242526 0.90285681 0.90242526 0.90285681 0.90055067 0.90170586\n",
            " 0.90565072 0.9054431  0.90502905 0.90593918 0.90167066 0.9018566\n",
            " 0.90466859 0.90435563 0.90283985 0.90475303 0.90132393 0.90178157\n",
            " 0.90242526 0.90285681 0.90242526 0.90285681 0.90055067 0.90170586\n",
            "        nan        nan        nan        nan        nan        nan\n",
            "        nan        nan        nan        nan        nan        nan\n",
            "        nan        nan        nan        nan        nan        nan\n",
            " 0.92072976 0.91948615 0.91887142 0.92034445 0.91678724 0.91755707\n",
            " 0.91715641 0.91791356 0.91670915 0.91791601 0.91494049 0.91487596\n",
            " 0.91228604 0.9131201  0.91228604 0.9131201  0.91088439 0.91190996\n",
            " 0.92072976 0.91948615 0.91887142 0.92034445 0.91678724 0.91755707\n",
            " 0.91715641 0.91791356 0.91670915 0.91791601 0.91494049 0.91487596\n",
            " 0.91228604 0.9131201  0.91228604 0.9131201  0.91088439 0.91190996\n",
            "        nan        nan        nan        nan        nan        nan\n",
            "        nan        nan        nan        nan        nan        nan\n",
            "        nan        nan        nan        nan        nan        nan\n",
            " 0.92300211 0.92424672 0.9225501  0.92283999 0.91863331 0.91745419\n",
            " 0.92089422 0.92027046 0.91785858 0.91938395 0.91701836 0.9172599\n",
            " 0.91224269 0.91431986 0.91224269 0.91431986 0.91143324 0.91232178\n",
            " 0.92300211 0.92424672 0.9225501  0.92283999 0.91863331 0.91745419\n",
            " 0.92089422 0.92027046 0.91785858 0.91938395 0.91701836 0.9172599\n",
            " 0.91224269 0.91431986 0.91224269 0.91431986 0.91143324 0.91232178]\n",
            "  warnings.warn(\n"
          ]
        },
        {
          "name": "stdout",
          "output_type": "stream",
          "text": [
            "Best parameters (RF): {'max_depth': None, 'max_features': 'sqrt', 'min_samples_leaf': 1, 'min_samples_split': 2, 'n_estimators': 200}\n",
            "Best CV F1 score (RF): 0.9242467158816154\n",
            "\n",
            "=== Classification Report (Training Set - RF) ===\n",
            "              precision    recall  f1-score   support\n",
            "\n",
            "           0       1.00      1.00      1.00      3199\n",
            "           1       1.00      1.00      1.00      3201\n",
            "\n",
            "    accuracy                           1.00      6400\n",
            "   macro avg       1.00      1.00      1.00      6400\n",
            "weighted avg       1.00      1.00      1.00      6400\n",
            "\n",
            "\n",
            "=== Classification Report (Test Set - RF) ===\n",
            "              precision    recall  f1-score   support\n",
            "\n",
            "           0       0.95      0.91      0.93       801\n",
            "           1       0.91      0.95      0.93       799\n",
            "\n",
            "    accuracy                           0.93      1600\n",
            "   macro avg       0.93      0.93      0.93      1600\n",
            "weighted avg       0.93      0.93      0.93      1600\n",
            "\n"
          ]
        }
      ],
      "source": [
        "from sklearn.ensemble import RandomForestClassifier\n",
        "from sklearn.model_selection import GridSearchCV\n",
        "from sklearn.metrics import classification_report\n",
        "\n",
        "# Parameter grid untuk Random Forest\n",
        "param_grid_rf = {\n",
        "    'n_estimators': [100, 200],\n",
        "    'max_depth': [5, 10, 15, None],\n",
        "    'min_samples_split': [2, 5, 10],\n",
        "    'min_samples_leaf': [1, 2, 4],\n",
        "    'max_features': ['auto', 'sqrt', 'log2']\n",
        "}\n",
        "\n",
        "# Model Random Forest\n",
        "rf = RandomForestClassifier(random_state=42)\n",
        "\n",
        "# GridSearchCV\n",
        "grid_search_rf = GridSearchCV(\n",
        "    estimator=rf,\n",
        "    param_grid=param_grid_rf,\n",
        "    scoring='f1',\n",
        "    cv=5,\n",
        "    n_jobs=-1\n",
        ")\n",
        "\n",
        "# Fitting\n",
        "grid_search_rf.fit(X_train, y_train)\n",
        "\n",
        "# Best model\n",
        "best_rf = grid_search_rf.best_estimator_\n",
        "\n",
        "# Prediksi\n",
        "y_pred_train_rf = best_rf.predict(X_train)\n",
        "y_pred_test_rf = best_rf.predict(X_test)\n",
        "\n",
        "# Evaluasi\n",
        "print(\"Best parameters (RF):\", grid_search_rf.best_params_)\n",
        "print(\"Best CV F1 score (RF):\", grid_search_rf.best_score_)\n",
        "\n",
        "print(\"\\n=== Classification Report (Training Set - RF) ===\")\n",
        "print(classification_report(y_train, y_pred_train_rf))\n",
        "\n",
        "print(\"\\n=== Classification Report (Test Set - RF) ===\")\n",
        "print(classification_report(y_test, y_pred_test_rf))\n"
      ]
    },
    {
      "cell_type": "markdown",
      "metadata": {
        "id": "-riMZTabKpno"
      },
      "source": [
        "# XGBoost"
      ]
    },
    {
      "cell_type": "code",
      "execution_count": 60,
      "metadata": {
        "colab": {
          "base_uri": "https://localhost:8080/"
        },
        "id": "Mr5i3t76HNAD",
        "outputId": "c56c95c3-0f06-4439-ddc3-21c92f1f1375"
      },
      "outputs": [
        {
          "name": "stderr",
          "output_type": "stream",
          "text": [
            "c:\\Users\\LENOVO\\anaconda3\\Lib\\site-packages\\xgboost\\training.py:183: UserWarning: [22:36:00] WARNING: C:\\actions-runner\\_work\\xgboost\\xgboost\\src\\learner.cc:738: \n",
            "Parameters: { \"use_label_encoder\" } are not used.\n",
            "\n",
            "  bst.update(dtrain, iteration=i, fobj=obj)\n"
          ]
        },
        {
          "name": "stdout",
          "output_type": "stream",
          "text": [
            "Best parameters (XGB): {'colsample_bytree': 0.8, 'learning_rate': 0.2, 'max_depth': 10, 'n_estimators': 200, 'subsample': 0.8}\n",
            "Best CV F1 score (XGB): 0.9345583938377903\n",
            "\n",
            "=== Classification Report (Training Set - XGB) ===\n",
            "              precision    recall  f1-score   support\n",
            "\n",
            "           0       1.00      1.00      1.00      3199\n",
            "           1       1.00      1.00      1.00      3201\n",
            "\n",
            "    accuracy                           1.00      6400\n",
            "   macro avg       1.00      1.00      1.00      6400\n",
            "weighted avg       1.00      1.00      1.00      6400\n",
            "\n",
            "\n",
            "=== Classification Report (Test Set - XGB) ===\n",
            "              precision    recall  f1-score   support\n",
            "\n",
            "           0       0.95      0.93      0.94       801\n",
            "           1       0.93      0.95      0.94       799\n",
            "\n",
            "    accuracy                           0.94      1600\n",
            "   macro avg       0.94      0.94      0.94      1600\n",
            "weighted avg       0.94      0.94      0.94      1600\n",
            "\n"
          ]
        }
      ],
      "source": [
        "from xgboost import XGBClassifier\n",
        "\n",
        "# Parameter grid untuk XGBoost\n",
        "param_grid_xgb = {\n",
        "    'n_estimators': [100, 200],\n",
        "    'max_depth': [3, 5, 7, 10],\n",
        "    'learning_rate': [0.01, 0.1, 0.2],\n",
        "    'subsample': [0.8, 1.0],\n",
        "    'colsample_bytree': [0.8, 1.0]\n",
        "}\n",
        "\n",
        "# Model XGBoost\n",
        "xgb = XGBClassifier(random_state=42, use_label_encoder=False, eval_metric='logloss')\n",
        "\n",
        "# GridSearchCV\n",
        "grid_search_xgb = GridSearchCV(\n",
        "    estimator=xgb,\n",
        "    param_grid=param_grid_xgb,\n",
        "    scoring='f1',\n",
        "    cv=5,\n",
        "    n_jobs=-1\n",
        ")\n",
        "\n",
        "# Fitting\n",
        "grid_search_xgb.fit(X_train, y_train)\n",
        "\n",
        "# Best model\n",
        "best_xgb = grid_search_xgb.best_estimator_\n",
        "\n",
        "# Prediksi\n",
        "y_pred_train_xgb = best_xgb.predict(X_train)\n",
        "y_pred_test_xgb = best_xgb.predict(X_test)\n",
        "\n",
        "# Evaluasi\n",
        "print(\"Best parameters (XGB):\", grid_search_xgb.best_params_)\n",
        "print(\"Best CV F1 score (XGB):\", grid_search_xgb.best_score_)\n",
        "\n",
        "print(\"\\n=== Classification Report (Training Set - XGB) ===\")\n",
        "print(classification_report(y_train, y_pred_train_xgb))\n",
        "\n",
        "print(\"\\n=== Classification Report (Test Set - XGB) ===\")\n",
        "print(classification_report(y_test, y_pred_test_xgb))\n"
      ]
    },
    {
      "cell_type": "markdown",
      "metadata": {
        "id": "evmfKplpMioI"
      },
      "source": [
        "#  Model Evaluation"
      ]
    },
    {
      "cell_type": "markdown",
      "metadata": {
        "id": "zkXCrGluOHNO"
      },
      "source": [
        "### 1. Models without Hyperparameters\n",
        "\n",
        "| **Model**          | **Accuracy** | **Precision** | **Recall** | **F1-Score** |\n",
        "| ------------------ | ------------ | ------------- | ---------- | ------------ |\n",
        "| Decision Tree       | 0.88         | 0.88          | 0.88       | 0.88         |\n",
        "| Random Forest       | 0.90         | 0.89          | 0.90       | 0.89         |\n",
        "| XGBoost             | 0.89         | 0.88          | 0.89       | 0.89         |"
      ]
    },
    {
      "cell_type": "markdown",
      "metadata": {
        "id": "Lwv5_diBOpLp"
      },
      "source": [
        "### 2. Models After SMOTENC\n",
        "\n",
        "| **Model**          | **Accuracy** | **Precision** | **Recall** | **F1-Score** |\n",
        "| ------------------ | ------------ | ------------- | ---------- | ------------ |\n",
        "| Decision Tree       | 0.89         | 0.89          | 0.89       | 0.89         |\n",
        "| Random Forest       | 0.93         | 0.93          | 0.93       | 0.93         |\n",
        "| XGBoost             | 0.93         | 0.93          | 0.93       | 0.93         |"
      ]
    },
    {
      "cell_type": "markdown",
      "metadata": {
        "id": "xt7plicIO0vV"
      },
      "source": [
        "### 3. Models After Feature Importance\n",
        "\n",
        "| **Model**          | **Accuracy** | **Precision** | **Recall** | **F1-Score** |\n",
        "| ------------------ | ------------ | ------------- | ---------- | ------------ |\n",
        "| Decision Tree       | 0.81         | 0.81          | 0.81       | 0.81         |\n",
        "| Random Forest       | 0.83         | 0.83          | 0.83       | 0.83         |\n",
        "| XGBoost             | 0.84         | 0.84          | 0.84       | 0.84         |"
      ]
    },
    {
      "cell_type": "markdown",
      "metadata": {
        "id": "rpJ7KwzkOpEf"
      },
      "source": [
        "### 4. Models After Correlation-Based Feature Selection4. Models After Correlation-Based Feature Selection\n",
        "\n",
        "| **Model**          | **Accuracy** | **Precision** | **Recall** | **F1-Score** |\n",
        "| ------------------ | ------------ | ------------- | ---------- | ------------ |\n",
        "| Decision Tree       | 0.81         | 0.81          | 0.81       | 0.81         |\n",
        "| Random Forest       | 0.83         | 0.83          | 0.83       | 0.83         |\n",
        "| XGBoost             | 0.84         | 0.84          | 0.84       | 0.84         |"
      ]
    },
    {
      "cell_type": "markdown",
      "metadata": {
        "id": "s0lnhK4vOoqY"
      },
      "source": [
        "### 5. Models With Hyperparameter Tuning (Grid Search)\n",
        "\n",
        "| **Model**          | **Accuracy** | **Precision** | **Recall** | **F1-Score** |\n",
        "| ------------------ | ------------ | ------------- | ---------- | ------------ |\n",
        "| Decision Tree       | 0.89         | 0.89          | 0.89       | 0.89         |\n",
        "| Random Forest       | 0.93         | 0.93          | 0.93       | 0.93         |\n",
        "| XGBoost             | 0.94         | 0.94          | 0.94       | 0.94         |"
      ]
    },
    {
      "cell_type": "markdown",
      "metadata": {
        "id": "YpCcLUPSPqP8"
      },
      "source": [
        "# Discussion & Insights"
      ]
    },
    {
      "cell_type": "markdown",
      "metadata": {
        "id": "b2AcDyDeL0t4"
      },
      "source": [
        "## Which model performed best overall?"
      ]
    },
    {
      "cell_type": "markdown",
      "metadata": {
        "id": "5YEb4vPlL0I2"
      },
      "source": [
        "Based on the test set results, the XGBoost model after hyperparameter tuning performed the best overall.\n",
        "\n",
        "This model achieved the highest test set metrics compared to all other models and variations:\n",
        "\n",
        "\n",
        "- Accuracy: 0.94\n",
        "- Macro Avg F1-Score: 0.94\n",
        "- Weighted Avg F1-Score: 0.94\n",
        "- Best CV F1 Score: 0.9355\n",
        "\n",
        "This surpassed the tuned Random Forest (0.93 accuracy) and the tuned Decision Tree (0.89 accuracy)."
      ]
    },
    {
      "cell_type": "markdown",
      "metadata": {
        "id": "ZR0BdffzLziX"
      },
      "source": [
        "## Did ensemble methods (RF, XGBoost) improve performance compared to a single Decision Tree?"
      ]
    },
    {
      "cell_type": "markdown",
      "metadata": {
        "id": "9moiN73_MGdp"
      },
      "source": [
        "Yes, the ensemble methods (Random Forest and XGBoost) consistently improved performance compared to the single Decision Tree across all scenarios presented.\n",
        "\n",
        "\n",
        "- Without Hyperparameters (Baseline): Random Forest achieved 0.90 accuracy and XGBoost achieved 0.89 accuracy , while the Decision Tree had 0.88 accuracy.\n",
        "- After SMOTENC: Both Random Forest and XGBoost achieved 0.93 test accuracy , outperforming the Decision Tree's 0.89 accuracy.\n",
        "- After Feature Importance: XGBoost (0.84 accuracy) and Random Forest (0.83 accuracy) both beat the Decision Tree (0.81 accuracy).\n",
        "- After Correlation Selection: Random Forest and XGBoost both scored 0.63 accuracy , slightly better than the Decision Tree's 0.62.\n",
        "- With Hyperparameter Tuning: XGBoost (0.94 accuracy) and Random Forest (0.93 accuracy) clearly outperformed the Decision Tree (0.89 accuracy)."
      ]
    },
    {
      "cell_type": "markdown",
      "metadata": {
        "id": "6vqLzzGVMTZm"
      },
      "source": [
        "## How could the bank use these insights to refine its marketing strategy?"
      ]
    },
    {
      "cell_type": "markdown",
      "metadata": {
        "id": "gg-Runh5MUwc"
      },
      "source": [
        "The bank can use these insights to significantly refine its marketing strategy by adopting a data-driven targeting approach.\n",
        "\n",
        "The best model (XGBoost with hyperparameter tuning) is highly effective at predicting which customers will accept a marketing offer (Class 1) and which will not (Class 0).\n",
        "\n",
        "The model's test set performance for Class 1 (the customers who accept the offer) is excellent:\n",
        "\n",
        "- Precision (Class 1): 0.92. This means that when the model predicts a customer will say \"yes,\" it is correct 92% of the time.\n",
        "- Recall (Class 1): 0.96. This means the model successfully identifies 96% of all customers in the test set who would actually say \"yes.\"\n",
        "\n",
        "By using this model, the bank can:\n",
        "\n",
        "1. Maximize Efficiency: Focus marketing resources (like phone calls, emails, or mail) almost exclusively on the customers the model predicts as Class 1.\n",
        "2. Increase ROI: Avoid spending money on customers highly unlikely to convert (those predicted as Class 0), thereby increasing the return on investment for the marketing campaign.\n",
        "3. Improve Conversion Rates: By targeting a pre-qualified list of high-potential customers, the campaign's overall success rate should increase substantially."
      ]
    }
  ],
  "metadata": {
    "colab": {
      "provenance": []
    },
    "kernelspec": {
      "display_name": "base",
      "language": "python",
      "name": "python3"
    },
    "language_info": {
      "codemirror_mode": {
        "name": "ipython",
        "version": 3
      },
      "file_extension": ".py",
      "mimetype": "text/x-python",
      "name": "python",
      "nbconvert_exporter": "python",
      "pygments_lexer": "ipython3",
      "version": "3.12.7"
    }
  },
  "nbformat": 4,
  "nbformat_minor": 0
}
